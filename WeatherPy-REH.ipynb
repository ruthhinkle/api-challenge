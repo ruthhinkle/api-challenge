{
 "cells": [
  {
   "cell_type": "markdown",
   "metadata": {},
   "source": [
    "# WeatherPy\n",
    "----\n",
    "\n",
    "#### Note\n",
    "* Instructions have been included for each segment. You do not have to follow them exactly, but they are included to help you think through the steps."
   ]
  },
  {
   "cell_type": "code",
   "execution_count": 1,
   "metadata": {
    "scrolled": true
   },
   "outputs": [],
   "source": [
    "# Dependencies and Setup\n",
    "import matplotlib.pyplot as plt\n",
    "import pandas as pd\n",
    "import numpy as np\n",
    "import requests\n",
    "import time\n",
    "from scipy.stats import linregress\n",
    "from pprint import pprint\n",
    "\n",
    "# Import API key\n",
    "from api_keys import weather_api_key\n",
    "\n",
    "# Incorporated citipy to determine city based on latitude and longitude\n",
    "from citipy import citipy\n",
    "\n",
    "# Output File (CSV)\n",
    "output_data_file = \"output_data/cities.csv\"\n",
    "\n",
    "# Range of latitudes and longitudes\n",
    "lat_range = (-90, 90)\n",
    "lng_range = (-180, 180)"
   ]
  },
  {
   "cell_type": "markdown",
   "metadata": {},
   "source": [
    "## Generate Cities List"
   ]
  },
  {
   "cell_type": "code",
   "execution_count": 2,
   "metadata": {},
   "outputs": [
    {
     "data": {
      "text/plain": [
       "2867"
      ]
     },
     "execution_count": 2,
     "metadata": {},
     "output_type": "execute_result"
    }
   ],
   "source": [
    "# List for holding lat_lngs and cities\n",
    "cities = []\n",
    "\n",
    "# Create a set of random lat and lng combinations\n",
    "lats = np.random.uniform(lat_range[0], lat_range[1], size=15000)\n",
    "lngs = np.random.uniform(lng_range[0], lng_range[1], size=15000)\n",
    "lat_lngs = list(zip(lats, lngs))\n",
    "\n",
    "# Identify nearest city for each lat, lng combination\n",
    "for lat_lng in lat_lngs:\n",
    "    city = citipy.nearest_city(lat_lng[0], lat_lng[1]).city_name\n",
    "    \n",
    "    # If the city is unique, then add it to a our cities list\n",
    "    if city not in cities:\n",
    "        cities.append(city)\n",
    "\n",
    "# Print the city count to confirm sufficient count\n",
    "len(cities)"
   ]
  },
  {
   "cell_type": "markdown",
   "metadata": {},
   "source": [
    "### Perform API Calls\n",
    "* Perform a weather check on each city using a series of successive API calls.\n",
    "* Include a print log of each city as it'sbeing processed (with the city number and city name).\n"
   ]
  },
  {
   "cell_type": "code",
   "execution_count": 3,
   "metadata": {
    "scrolled": true
   },
   "outputs": [
    {
     "name": "stdout",
     "output_type": "stream",
     "text": [
      "{'base': 'stations',\n",
      " 'clouds': {'all': 90},\n",
      " 'cod': 200,\n",
      " 'coord': {'lat': 65.6145, 'lon': -37.6368},\n",
      " 'dt': 1611946390,\n",
      " 'id': 3424607,\n",
      " 'main': {'feels_like': 255.69,\n",
      "          'humidity': 93,\n",
      "          'pressure': 1015,\n",
      "          'temp': 265.15,\n",
      "          'temp_max': 265.15,\n",
      "          'temp_min': 265.15},\n",
      " 'name': 'Tasiilaq',\n",
      " 'sys': {'country': 'GL',\n",
      "         'id': 81,\n",
      "         'sunrise': 1611919974,\n",
      "         'sunset': 1611942860,\n",
      "         'type': 1},\n",
      " 'timezone': -10800,\n",
      " 'visibility': 10000,\n",
      " 'weather': [{'description': 'overcast clouds',\n",
      "              'icon': '04n',\n",
      "              'id': 804,\n",
      "              'main': 'Clouds'}],\n",
      " 'wind': {'deg': 80, 'speed': 9.26}}\n"
     ]
    }
   ],
   "source": [
    "city = cities[0]\n",
    "city_url = f\"https://api.openweathermap.org/data/2.5/weather?q={city}&appid={weather_api_key}\"\n",
    "city_data= requests.get(city_url).json()\n",
    "pprint(city_data)"
   ]
  },
  {
   "cell_type": "code",
   "execution_count": 4,
   "metadata": {
    "scrolled": true
   },
   "outputs": [
    {
     "name": "stdout",
     "output_type": "stream",
     "text": [
      "GL\n"
     ]
    }
   ],
   "source": [
    "name = city_data[\"name\"]\n",
    "lat = city_data['coord']['lat']\n",
    "lng = city_data['coord']['lon']\n",
    "max_temp = city_data['main']['temp_max']\n",
    "humidity = city_data['main']['humidity']\n",
    "cloudiness = city_data['weather'][0]['id']\n",
    "wind_speed = city_data['wind']['speed']\n",
    "date = city_data['dt']\n",
    "country = city_data['sys']['country']\n",
    "print(country)"
   ]
  },
  {
   "cell_type": "code",
   "execution_count": 5,
   "metadata": {},
   "outputs": [],
   "source": [
    "#Create dictionary and lists\n",
    "global_weather = {}\n",
    "names = []\n",
    "lats = []\n",
    "lngs = []\n",
    "max_temps = []\n",
    "humidities = []\n",
    "clouds = []\n",
    "speeds = []\n",
    "dates = []\n",
    "countries = []\n",
    "\n",
    "for city in cities:\n",
    "    city_url = f\"https://api.openweathermap.org/data/2.5/weather?q={city}&appid={weather_api_key}\"\n",
    "    \n",
    "    try:\n",
    "    \n",
    "        city_data = requests.get(city_url).json()\n",
    "        names.append(city_data[\"name\"])\n",
    "        lats.append(city_data['coord']['lat'])\n",
    "        lngs.append(city_data['coord']['lon'])\n",
    "        max_temps.append(city_data['main']['temp_max'])\n",
    "        humidities.append(city_data['main']['humidity'])\n",
    "        clouds.append(city_data['weather'][0]['id'])\n",
    "        speeds.append(city_data['wind']['speed'])\n",
    "        countries.append(city_data['sys']['country'])\n",
    "        dates.append(city_data['dt'])\n",
    "    \n",
    "    except: \n",
    "        pass  \n",
    "\n",
    "global_weather['Name'] = names\n",
    "global_weather['Latitude'] = lats\n",
    "global_weather['Longitude'] = lngs\n",
    "global_weather['Max Temp'] = max_temps\n",
    "global_weather['Humidity'] = humidities\n",
    "global_weather['Cloudiness'] = clouds\n",
    "global_weather['Wind Speed'] = speeds\n",
    "global_weather['Country'] = countries\n",
    "global_weather['Date'] = dates"
   ]
  },
  {
   "cell_type": "markdown",
   "metadata": {},
   "source": [
    "### Convert Raw Data to DataFrame\n",
    "* Export the city data into a .csv.\n",
    "* Display the DataFrame"
   ]
  },
  {
   "cell_type": "code",
   "execution_count": 6,
   "metadata": {
    "scrolled": true
   },
   "outputs": [
    {
     "data": {
      "text/html": [
       "<div>\n",
       "<style scoped>\n",
       "    .dataframe tbody tr th:only-of-type {\n",
       "        vertical-align: middle;\n",
       "    }\n",
       "\n",
       "    .dataframe tbody tr th {\n",
       "        vertical-align: top;\n",
       "    }\n",
       "\n",
       "    .dataframe thead th {\n",
       "        text-align: right;\n",
       "    }\n",
       "</style>\n",
       "<table border=\"1\" class=\"dataframe\">\n",
       "  <thead>\n",
       "    <tr style=\"text-align: right;\">\n",
       "      <th></th>\n",
       "      <th>Name</th>\n",
       "      <th>Latitude</th>\n",
       "      <th>Longitude</th>\n",
       "      <th>Max Temp</th>\n",
       "      <th>Humidity</th>\n",
       "      <th>Cloudiness</th>\n",
       "      <th>Wind Speed</th>\n",
       "      <th>Country</th>\n",
       "      <th>Date</th>\n",
       "    </tr>\n",
       "  </thead>\n",
       "  <tbody>\n",
       "    <tr>\n",
       "      <th>0</th>\n",
       "      <td>Tasiilaq</td>\n",
       "      <td>65.6145</td>\n",
       "      <td>-37.6368</td>\n",
       "      <td>265.15</td>\n",
       "      <td>93</td>\n",
       "      <td>804</td>\n",
       "      <td>9.26</td>\n",
       "      <td>GL</td>\n",
       "      <td>1611946390</td>\n",
       "    </tr>\n",
       "    <tr>\n",
       "      <th>1</th>\n",
       "      <td>Dikson</td>\n",
       "      <td>73.5069</td>\n",
       "      <td>80.5464</td>\n",
       "      <td>236.95</td>\n",
       "      <td>84</td>\n",
       "      <td>804</td>\n",
       "      <td>2.53</td>\n",
       "      <td>RU</td>\n",
       "      <td>1611946391</td>\n",
       "    </tr>\n",
       "    <tr>\n",
       "      <th>2</th>\n",
       "      <td>Alofi</td>\n",
       "      <td>-19.0595</td>\n",
       "      <td>-169.9187</td>\n",
       "      <td>298.15</td>\n",
       "      <td>94</td>\n",
       "      <td>501</td>\n",
       "      <td>4.12</td>\n",
       "      <td>NU</td>\n",
       "      <td>1611946391</td>\n",
       "    </tr>\n",
       "    <tr>\n",
       "      <th>3</th>\n",
       "      <td>Port Alfred</td>\n",
       "      <td>-33.5906</td>\n",
       "      <td>26.8910</td>\n",
       "      <td>291.48</td>\n",
       "      <td>89</td>\n",
       "      <td>800</td>\n",
       "      <td>0.89</td>\n",
       "      <td>ZA</td>\n",
       "      <td>1611946159</td>\n",
       "    </tr>\n",
       "    <tr>\n",
       "      <th>4</th>\n",
       "      <td>Salinópolis</td>\n",
       "      <td>-0.6136</td>\n",
       "      <td>-47.3561</td>\n",
       "      <td>301.52</td>\n",
       "      <td>73</td>\n",
       "      <td>804</td>\n",
       "      <td>6.24</td>\n",
       "      <td>BR</td>\n",
       "      <td>1611946392</td>\n",
       "    </tr>\n",
       "    <tr>\n",
       "      <th>...</th>\n",
       "      <td>...</td>\n",
       "      <td>...</td>\n",
       "      <td>...</td>\n",
       "      <td>...</td>\n",
       "      <td>...</td>\n",
       "      <td>...</td>\n",
       "      <td>...</td>\n",
       "      <td>...</td>\n",
       "      <td>...</td>\n",
       "    </tr>\n",
       "    <tr>\n",
       "      <th>2647</th>\n",
       "      <td>Qurayyat</td>\n",
       "      <td>31.3318</td>\n",
       "      <td>37.3428</td>\n",
       "      <td>281.15</td>\n",
       "      <td>53</td>\n",
       "      <td>803</td>\n",
       "      <td>5.14</td>\n",
       "      <td>SA</td>\n",
       "      <td>1611947090</td>\n",
       "    </tr>\n",
       "    <tr>\n",
       "      <th>2648</th>\n",
       "      <td>Stavrovo</td>\n",
       "      <td>56.1331</td>\n",
       "      <td>40.0130</td>\n",
       "      <td>270.77</td>\n",
       "      <td>98</td>\n",
       "      <td>804</td>\n",
       "      <td>5.68</td>\n",
       "      <td>RU</td>\n",
       "      <td>1611947090</td>\n",
       "    </tr>\n",
       "    <tr>\n",
       "      <th>2649</th>\n",
       "      <td>Yazoo City</td>\n",
       "      <td>32.8551</td>\n",
       "      <td>-90.4056</td>\n",
       "      <td>286.15</td>\n",
       "      <td>43</td>\n",
       "      <td>800</td>\n",
       "      <td>2.37</td>\n",
       "      <td>US</td>\n",
       "      <td>1611947011</td>\n",
       "    </tr>\n",
       "    <tr>\n",
       "      <th>2650</th>\n",
       "      <td>Santa Lucía</td>\n",
       "      <td>27.9117</td>\n",
       "      <td>-15.5407</td>\n",
       "      <td>294.26</td>\n",
       "      <td>78</td>\n",
       "      <td>800</td>\n",
       "      <td>3.09</td>\n",
       "      <td>ES</td>\n",
       "      <td>1611947090</td>\n",
       "    </tr>\n",
       "    <tr>\n",
       "      <th>2651</th>\n",
       "      <td>Abaza</td>\n",
       "      <td>52.6550</td>\n",
       "      <td>90.0928</td>\n",
       "      <td>269.56</td>\n",
       "      <td>94</td>\n",
       "      <td>600</td>\n",
       "      <td>5.51</td>\n",
       "      <td>RU</td>\n",
       "      <td>1611947091</td>\n",
       "    </tr>\n",
       "  </tbody>\n",
       "</table>\n",
       "<p>2652 rows × 9 columns</p>\n",
       "</div>"
      ],
      "text/plain": [
       "             Name  Latitude  Longitude  Max Temp  Humidity  Cloudiness  \\\n",
       "0        Tasiilaq   65.6145   -37.6368    265.15        93         804   \n",
       "1          Dikson   73.5069    80.5464    236.95        84         804   \n",
       "2           Alofi  -19.0595  -169.9187    298.15        94         501   \n",
       "3     Port Alfred  -33.5906    26.8910    291.48        89         800   \n",
       "4     Salinópolis   -0.6136   -47.3561    301.52        73         804   \n",
       "...           ...       ...        ...       ...       ...         ...   \n",
       "2647     Qurayyat   31.3318    37.3428    281.15        53         803   \n",
       "2648     Stavrovo   56.1331    40.0130    270.77        98         804   \n",
       "2649   Yazoo City   32.8551   -90.4056    286.15        43         800   \n",
       "2650  Santa Lucía   27.9117   -15.5407    294.26        78         800   \n",
       "2651        Abaza   52.6550    90.0928    269.56        94         600   \n",
       "\n",
       "      Wind Speed Country        Date  \n",
       "0           9.26      GL  1611946390  \n",
       "1           2.53      RU  1611946391  \n",
       "2           4.12      NU  1611946391  \n",
       "3           0.89      ZA  1611946159  \n",
       "4           6.24      BR  1611946392  \n",
       "...          ...     ...         ...  \n",
       "2647        5.14      SA  1611947090  \n",
       "2648        5.68      RU  1611947090  \n",
       "2649        2.37      US  1611947011  \n",
       "2650        3.09      ES  1611947090  \n",
       "2651        5.51      RU  1611947091  \n",
       "\n",
       "[2652 rows x 9 columns]"
      ]
     },
     "execution_count": 6,
     "metadata": {},
     "output_type": "execute_result"
    }
   ],
   "source": [
    "weather_summary = pd.DataFrame(global_weather)\n",
    "pd.to_numeric(weather_summary['Latitude']).astype(float)\n",
    "pd.to_numeric(weather_summary['Longitude']).astype(float)\n",
    "pd.to_numeric(weather_summary['Max Temp']).astype(float)\n",
    "pd.to_numeric(weather_summary['Humidity']).astype(float)\n",
    "pd.to_numeric(weather_summary['Cloudiness']).astype(float)\n",
    "pd.to_numeric(weather_summary['Wind Speed']).astype(float)\n",
    "weather_summary"
   ]
  },
  {
   "cell_type": "code",
   "execution_count": 7,
   "metadata": {},
   "outputs": [],
   "source": [
    "weather_summary.to_csv(\"Output Data/cities.csv\")"
   ]
  },
  {
   "cell_type": "code",
   "execution_count": 8,
   "metadata": {},
   "outputs": [
    {
     "data": {
      "text/html": [
       "<div>\n",
       "<style scoped>\n",
       "    .dataframe tbody tr th:only-of-type {\n",
       "        vertical-align: middle;\n",
       "    }\n",
       "\n",
       "    .dataframe tbody tr th {\n",
       "        vertical-align: top;\n",
       "    }\n",
       "\n",
       "    .dataframe thead th {\n",
       "        text-align: right;\n",
       "    }\n",
       "</style>\n",
       "<table border=\"1\" class=\"dataframe\">\n",
       "  <thead>\n",
       "    <tr style=\"text-align: right;\">\n",
       "      <th></th>\n",
       "      <th>Name</th>\n",
       "      <th>Latitude</th>\n",
       "      <th>Longitude</th>\n",
       "      <th>Max Temp</th>\n",
       "      <th>Humidity</th>\n",
       "      <th>Cloudiness</th>\n",
       "      <th>Wind Speed</th>\n",
       "      <th>Country</th>\n",
       "      <th>Date</th>\n",
       "    </tr>\n",
       "  </thead>\n",
       "  <tbody>\n",
       "    <tr>\n",
       "      <th>0</th>\n",
       "      <td>Tasiilaq</td>\n",
       "      <td>65.6145</td>\n",
       "      <td>-37.6368</td>\n",
       "      <td>265.15</td>\n",
       "      <td>93</td>\n",
       "      <td>804</td>\n",
       "      <td>9.26</td>\n",
       "      <td>GL</td>\n",
       "      <td>1611946390</td>\n",
       "    </tr>\n",
       "    <tr>\n",
       "      <th>1</th>\n",
       "      <td>Dikson</td>\n",
       "      <td>73.5069</td>\n",
       "      <td>80.5464</td>\n",
       "      <td>236.95</td>\n",
       "      <td>84</td>\n",
       "      <td>804</td>\n",
       "      <td>2.53</td>\n",
       "      <td>RU</td>\n",
       "      <td>1611946391</td>\n",
       "    </tr>\n",
       "    <tr>\n",
       "      <th>2</th>\n",
       "      <td>Alofi</td>\n",
       "      <td>-19.0595</td>\n",
       "      <td>-169.9187</td>\n",
       "      <td>298.15</td>\n",
       "      <td>94</td>\n",
       "      <td>501</td>\n",
       "      <td>4.12</td>\n",
       "      <td>NU</td>\n",
       "      <td>1611946391</td>\n",
       "    </tr>\n",
       "    <tr>\n",
       "      <th>3</th>\n",
       "      <td>Port Alfred</td>\n",
       "      <td>-33.5906</td>\n",
       "      <td>26.8910</td>\n",
       "      <td>291.48</td>\n",
       "      <td>89</td>\n",
       "      <td>800</td>\n",
       "      <td>0.89</td>\n",
       "      <td>ZA</td>\n",
       "      <td>1611946159</td>\n",
       "    </tr>\n",
       "    <tr>\n",
       "      <th>4</th>\n",
       "      <td>Salinópolis</td>\n",
       "      <td>-0.6136</td>\n",
       "      <td>-47.3561</td>\n",
       "      <td>301.52</td>\n",
       "      <td>73</td>\n",
       "      <td>804</td>\n",
       "      <td>6.24</td>\n",
       "      <td>BR</td>\n",
       "      <td>1611946392</td>\n",
       "    </tr>\n",
       "    <tr>\n",
       "      <th>...</th>\n",
       "      <td>...</td>\n",
       "      <td>...</td>\n",
       "      <td>...</td>\n",
       "      <td>...</td>\n",
       "      <td>...</td>\n",
       "      <td>...</td>\n",
       "      <td>...</td>\n",
       "      <td>...</td>\n",
       "      <td>...</td>\n",
       "    </tr>\n",
       "    <tr>\n",
       "      <th>2647</th>\n",
       "      <td>Qurayyat</td>\n",
       "      <td>31.3318</td>\n",
       "      <td>37.3428</td>\n",
       "      <td>281.15</td>\n",
       "      <td>53</td>\n",
       "      <td>803</td>\n",
       "      <td>5.14</td>\n",
       "      <td>SA</td>\n",
       "      <td>1611947090</td>\n",
       "    </tr>\n",
       "    <tr>\n",
       "      <th>2648</th>\n",
       "      <td>Stavrovo</td>\n",
       "      <td>56.1331</td>\n",
       "      <td>40.0130</td>\n",
       "      <td>270.77</td>\n",
       "      <td>98</td>\n",
       "      <td>804</td>\n",
       "      <td>5.68</td>\n",
       "      <td>RU</td>\n",
       "      <td>1611947090</td>\n",
       "    </tr>\n",
       "    <tr>\n",
       "      <th>2649</th>\n",
       "      <td>Yazoo City</td>\n",
       "      <td>32.8551</td>\n",
       "      <td>-90.4056</td>\n",
       "      <td>286.15</td>\n",
       "      <td>43</td>\n",
       "      <td>800</td>\n",
       "      <td>2.37</td>\n",
       "      <td>US</td>\n",
       "      <td>1611947011</td>\n",
       "    </tr>\n",
       "    <tr>\n",
       "      <th>2650</th>\n",
       "      <td>Santa Lucía</td>\n",
       "      <td>27.9117</td>\n",
       "      <td>-15.5407</td>\n",
       "      <td>294.26</td>\n",
       "      <td>78</td>\n",
       "      <td>800</td>\n",
       "      <td>3.09</td>\n",
       "      <td>ES</td>\n",
       "      <td>1611947090</td>\n",
       "    </tr>\n",
       "    <tr>\n",
       "      <th>2651</th>\n",
       "      <td>Abaza</td>\n",
       "      <td>52.6550</td>\n",
       "      <td>90.0928</td>\n",
       "      <td>269.56</td>\n",
       "      <td>94</td>\n",
       "      <td>600</td>\n",
       "      <td>5.51</td>\n",
       "      <td>RU</td>\n",
       "      <td>1611947091</td>\n",
       "    </tr>\n",
       "  </tbody>\n",
       "</table>\n",
       "<p>2652 rows × 9 columns</p>\n",
       "</div>"
      ],
      "text/plain": [
       "             Name  Latitude  Longitude  Max Temp  Humidity  Cloudiness  \\\n",
       "0        Tasiilaq   65.6145   -37.6368    265.15        93         804   \n",
       "1          Dikson   73.5069    80.5464    236.95        84         804   \n",
       "2           Alofi  -19.0595  -169.9187    298.15        94         501   \n",
       "3     Port Alfred  -33.5906    26.8910    291.48        89         800   \n",
       "4     Salinópolis   -0.6136   -47.3561    301.52        73         804   \n",
       "...           ...       ...        ...       ...       ...         ...   \n",
       "2647     Qurayyat   31.3318    37.3428    281.15        53         803   \n",
       "2648     Stavrovo   56.1331    40.0130    270.77        98         804   \n",
       "2649   Yazoo City   32.8551   -90.4056    286.15        43         800   \n",
       "2650  Santa Lucía   27.9117   -15.5407    294.26        78         800   \n",
       "2651        Abaza   52.6550    90.0928    269.56        94         600   \n",
       "\n",
       "      Wind Speed Country        Date  \n",
       "0           9.26      GL  1611946390  \n",
       "1           2.53      RU  1611946391  \n",
       "2           4.12      NU  1611946391  \n",
       "3           0.89      ZA  1611946159  \n",
       "4           6.24      BR  1611946392  \n",
       "...          ...     ...         ...  \n",
       "2647        5.14      SA  1611947090  \n",
       "2648        5.68      RU  1611947090  \n",
       "2649        2.37      US  1611947011  \n",
       "2650        3.09      ES  1611947090  \n",
       "2651        5.51      RU  1611947091  \n",
       "\n",
       "[2652 rows x 9 columns]"
      ]
     },
     "execution_count": 8,
     "metadata": {},
     "output_type": "execute_result"
    }
   ],
   "source": [
    "weather_summary"
   ]
  },
  {
   "cell_type": "markdown",
   "metadata": {},
   "source": [
    "## Inspect the data and remove the cities where the humidity > 100%.\n",
    "----\n",
    "Skip this step if there are no cities that have humidity > 100%. "
   ]
  },
  {
   "cell_type": "code",
   "execution_count": 9,
   "metadata": {},
   "outputs": [],
   "source": [
    "#  Get the indices of cities that have humidity over 100%."
   ]
  },
  {
   "cell_type": "code",
   "execution_count": 10,
   "metadata": {},
   "outputs": [
    {
     "data": {
      "text/html": [
       "<div>\n",
       "<style scoped>\n",
       "    .dataframe tbody tr th:only-of-type {\n",
       "        vertical-align: middle;\n",
       "    }\n",
       "\n",
       "    .dataframe tbody tr th {\n",
       "        vertical-align: top;\n",
       "    }\n",
       "\n",
       "    .dataframe thead th {\n",
       "        text-align: right;\n",
       "    }\n",
       "</style>\n",
       "<table border=\"1\" class=\"dataframe\">\n",
       "  <thead>\n",
       "    <tr style=\"text-align: right;\">\n",
       "      <th></th>\n",
       "      <th>Name</th>\n",
       "      <th>Latitude</th>\n",
       "      <th>Longitude</th>\n",
       "      <th>Max Temp</th>\n",
       "      <th>Humidity</th>\n",
       "      <th>Cloudiness</th>\n",
       "      <th>Wind Speed</th>\n",
       "      <th>Country</th>\n",
       "      <th>Date</th>\n",
       "    </tr>\n",
       "  </thead>\n",
       "  <tbody>\n",
       "    <tr>\n",
       "      <th>0</th>\n",
       "      <td>Tasiilaq</td>\n",
       "      <td>65.6145</td>\n",
       "      <td>-37.6368</td>\n",
       "      <td>265.15</td>\n",
       "      <td>93</td>\n",
       "      <td>804</td>\n",
       "      <td>9.26</td>\n",
       "      <td>GL</td>\n",
       "      <td>1611946390</td>\n",
       "    </tr>\n",
       "    <tr>\n",
       "      <th>1</th>\n",
       "      <td>Dikson</td>\n",
       "      <td>73.5069</td>\n",
       "      <td>80.5464</td>\n",
       "      <td>236.95</td>\n",
       "      <td>84</td>\n",
       "      <td>804</td>\n",
       "      <td>2.53</td>\n",
       "      <td>RU</td>\n",
       "      <td>1611946391</td>\n",
       "    </tr>\n",
       "    <tr>\n",
       "      <th>2</th>\n",
       "      <td>Alofi</td>\n",
       "      <td>-19.0595</td>\n",
       "      <td>-169.9187</td>\n",
       "      <td>298.15</td>\n",
       "      <td>94</td>\n",
       "      <td>501</td>\n",
       "      <td>4.12</td>\n",
       "      <td>NU</td>\n",
       "      <td>1611946391</td>\n",
       "    </tr>\n",
       "    <tr>\n",
       "      <th>3</th>\n",
       "      <td>Port Alfred</td>\n",
       "      <td>-33.5906</td>\n",
       "      <td>26.8910</td>\n",
       "      <td>291.48</td>\n",
       "      <td>89</td>\n",
       "      <td>800</td>\n",
       "      <td>0.89</td>\n",
       "      <td>ZA</td>\n",
       "      <td>1611946159</td>\n",
       "    </tr>\n",
       "    <tr>\n",
       "      <th>4</th>\n",
       "      <td>Salinópolis</td>\n",
       "      <td>-0.6136</td>\n",
       "      <td>-47.3561</td>\n",
       "      <td>301.52</td>\n",
       "      <td>73</td>\n",
       "      <td>804</td>\n",
       "      <td>6.24</td>\n",
       "      <td>BR</td>\n",
       "      <td>1611946392</td>\n",
       "    </tr>\n",
       "    <tr>\n",
       "      <th>...</th>\n",
       "      <td>...</td>\n",
       "      <td>...</td>\n",
       "      <td>...</td>\n",
       "      <td>...</td>\n",
       "      <td>...</td>\n",
       "      <td>...</td>\n",
       "      <td>...</td>\n",
       "      <td>...</td>\n",
       "      <td>...</td>\n",
       "    </tr>\n",
       "    <tr>\n",
       "      <th>2647</th>\n",
       "      <td>Qurayyat</td>\n",
       "      <td>31.3318</td>\n",
       "      <td>37.3428</td>\n",
       "      <td>281.15</td>\n",
       "      <td>53</td>\n",
       "      <td>803</td>\n",
       "      <td>5.14</td>\n",
       "      <td>SA</td>\n",
       "      <td>1611947090</td>\n",
       "    </tr>\n",
       "    <tr>\n",
       "      <th>2648</th>\n",
       "      <td>Stavrovo</td>\n",
       "      <td>56.1331</td>\n",
       "      <td>40.0130</td>\n",
       "      <td>270.77</td>\n",
       "      <td>98</td>\n",
       "      <td>804</td>\n",
       "      <td>5.68</td>\n",
       "      <td>RU</td>\n",
       "      <td>1611947090</td>\n",
       "    </tr>\n",
       "    <tr>\n",
       "      <th>2649</th>\n",
       "      <td>Yazoo City</td>\n",
       "      <td>32.8551</td>\n",
       "      <td>-90.4056</td>\n",
       "      <td>286.15</td>\n",
       "      <td>43</td>\n",
       "      <td>800</td>\n",
       "      <td>2.37</td>\n",
       "      <td>US</td>\n",
       "      <td>1611947011</td>\n",
       "    </tr>\n",
       "    <tr>\n",
       "      <th>2650</th>\n",
       "      <td>Santa Lucía</td>\n",
       "      <td>27.9117</td>\n",
       "      <td>-15.5407</td>\n",
       "      <td>294.26</td>\n",
       "      <td>78</td>\n",
       "      <td>800</td>\n",
       "      <td>3.09</td>\n",
       "      <td>ES</td>\n",
       "      <td>1611947090</td>\n",
       "    </tr>\n",
       "    <tr>\n",
       "      <th>2651</th>\n",
       "      <td>Abaza</td>\n",
       "      <td>52.6550</td>\n",
       "      <td>90.0928</td>\n",
       "      <td>269.56</td>\n",
       "      <td>94</td>\n",
       "      <td>600</td>\n",
       "      <td>5.51</td>\n",
       "      <td>RU</td>\n",
       "      <td>1611947091</td>\n",
       "    </tr>\n",
       "  </tbody>\n",
       "</table>\n",
       "<p>2652 rows × 9 columns</p>\n",
       "</div>"
      ],
      "text/plain": [
       "             Name  Latitude  Longitude  Max Temp  Humidity  Cloudiness  \\\n",
       "0        Tasiilaq   65.6145   -37.6368    265.15        93         804   \n",
       "1          Dikson   73.5069    80.5464    236.95        84         804   \n",
       "2           Alofi  -19.0595  -169.9187    298.15        94         501   \n",
       "3     Port Alfred  -33.5906    26.8910    291.48        89         800   \n",
       "4     Salinópolis   -0.6136   -47.3561    301.52        73         804   \n",
       "...           ...       ...        ...       ...       ...         ...   \n",
       "2647     Qurayyat   31.3318    37.3428    281.15        53         803   \n",
       "2648     Stavrovo   56.1331    40.0130    270.77        98         804   \n",
       "2649   Yazoo City   32.8551   -90.4056    286.15        43         800   \n",
       "2650  Santa Lucía   27.9117   -15.5407    294.26        78         800   \n",
       "2651        Abaza   52.6550    90.0928    269.56        94         600   \n",
       "\n",
       "      Wind Speed Country        Date  \n",
       "0           9.26      GL  1611946390  \n",
       "1           2.53      RU  1611946391  \n",
       "2           4.12      NU  1611946391  \n",
       "3           0.89      ZA  1611946159  \n",
       "4           6.24      BR  1611946392  \n",
       "...          ...     ...         ...  \n",
       "2647        5.14      SA  1611947090  \n",
       "2648        5.68      RU  1611947090  \n",
       "2649        2.37      US  1611947011  \n",
       "2650        3.09      ES  1611947090  \n",
       "2651        5.51      RU  1611947091  \n",
       "\n",
       "[2652 rows x 9 columns]"
      ]
     },
     "execution_count": 10,
     "metadata": {},
     "output_type": "execute_result"
    }
   ],
   "source": [
    "# Make a new DataFrame equal to the city data to drop all humidity outliers by index.\n",
    "# Passing \"inplace=False\" will make a copy of the city_data DataFrame, which we call \"clean_city_data\".\n",
    "clean_city_data = weather_summary.drop(weather_summary[weather_summary['Humidity'] >100].index, inplace = False)\n",
    "clean_city_data"
   ]
  },
  {
   "cell_type": "markdown",
   "metadata": {},
   "source": [
    "## Plotting the Data\n",
    "* Use proper labeling of the plots using plot titles (including date of analysis) and axes labels.\n",
    "* Save the plotted figures as .pngs."
   ]
  },
  {
   "cell_type": "markdown",
   "metadata": {},
   "source": [
    "## Latitude vs. Temperature Plot"
   ]
  },
  {
   "cell_type": "code",
   "execution_count": 11,
   "metadata": {
    "scrolled": true
   },
   "outputs": [],
   "source": [
    "# challenge: create custom function, \"template,\" so I can run just one line of code (include savefig)"
   ]
  },
  {
   "cell_type": "code",
   "execution_count": 12,
   "metadata": {
    "scrolled": true
   },
   "outputs": [
    {
     "data": {
      "text/plain": [
       "<matplotlib.collections.PathCollection at 0x155d33c6df0>"
      ]
     },
     "execution_count": 12,
     "metadata": {},
     "output_type": "execute_result"
    },
    {
     "data": {
      "image/png": "[encoded data removed]",
      "text/plain": [
       "<Figure size 432x288 with 1 Axes>"
      ]
     },
     "metadata": {
      "needs_background": "light"
     },
     "output_type": "display_data"
    }
   ],
   "source": [
    "plt.scatter(clean_city_data['Latitude'],clean_city_data['Max Temp'])\n"
   ]
  },
  {
   "cell_type": "code",
   "execution_count": 13,
   "metadata": {},
   "outputs": [
    {
     "data": {
      "image/png": "[encoded data removed]",
      "text/plain": [
       "<Figure size 432x288 with 1 Axes>"
      ]
     },
     "metadata": {
      "needs_background": "light"
     },
     "output_type": "display_data"
    }
   ],
   "source": [
    "plt.scatter(clean_city_data['Latitude'],clean_city_data['Max Temp'])\n",
    "plt.xlabel('City Latitude')\n",
    "plt.ylabel('Max Temperature (F)')\n",
    "plt.title('City Latitude vs. Max Temperature')\n",
    "plt.show()"
   ]
  },
  {
   "cell_type": "markdown",
   "metadata": {},
   "source": [
    "## Latitude vs. Humidity Plot"
   ]
  },
  {
   "cell_type": "code",
   "execution_count": 14,
   "metadata": {},
   "outputs": [
    {
     "data": {
      "image/png": "[encoded data removed]",
      "text/plain": [
       "<Figure size 432x288 with 1 Axes>"
      ]
     },
     "metadata": {
      "needs_background": "light"
     },
     "output_type": "display_data"
    }
   ],
   "source": [
    "plt.scatter(clean_city_data['Latitude'],clean_city_data['Humidity'])\n",
    "plt.xlabel('City Latitude')\n",
    "plt.ylabel('Humidity')\n",
    "plt.title('City Latitude vs. Humidity')\n",
    "plt.show()"
   ]
  },
  {
   "cell_type": "markdown",
   "metadata": {},
   "source": [
    "## Latitude vs. Cloudiness Plot"
   ]
  },
  {
   "cell_type": "code",
   "execution_count": 15,
   "metadata": {},
   "outputs": [
    {
     "data": {
      "image/png": "[encoded data removed]",
      "text/plain": [
       "<Figure size 432x288 with 1 Axes>"
      ]
     },
     "metadata": {
      "needs_background": "light"
     },
     "output_type": "display_data"
    }
   ],
   "source": [
    "plt.scatter(clean_city_data['Latitude'],clean_city_data['Cloudiness'])\n",
    "plt.xlabel('City Latitude')\n",
    "plt.ylabel('Cloudiness')\n",
    "plt.title('City Latitude vs. Cloudiness')\n",
    "plt.show()"
   ]
  },
  {
   "cell_type": "markdown",
   "metadata": {},
   "source": [
    "## Latitude vs. Wind Speed Plot"
   ]
  },
  {
   "cell_type": "code",
   "execution_count": 16,
   "metadata": {},
   "outputs": [
    {
     "data": {
      "image/png": "[encoded data removed]",
      "text/plain": [
       "<Figure size 432x288 with 1 Axes>"
      ]
     },
     "metadata": {
      "needs_background": "light"
     },
     "output_type": "display_data"
    }
   ],
   "source": [
    "plt.scatter(clean_city_data['Latitude'],clean_city_data['Wind Speed'])\n",
    "plt.xlabel('City Latitude')\n",
    "plt.ylabel('Wind Speed')\n",
    "plt.title('City Latitude vs. Wind Speed')\n",
    "plt.show()"
   ]
  },
  {
   "cell_type": "markdown",
   "metadata": {},
   "source": [
    "## Linear Regression"
   ]
  },
  {
   "cell_type": "code",
   "execution_count": 17,
   "metadata": {},
   "outputs": [],
   "source": [
    "northern_df = clean_city_data.loc[pd.to_numeric(clean_city_data[\"Latitude\"]).astype(float) > 0, :]\n",
    "southern_df = clean_city_data.loc[pd.to_numeric(clean_city_data[\"Latitude\"]).astype(float) < 0, :]"
   ]
  },
  {
   "cell_type": "markdown",
   "metadata": {},
   "source": [
    "####  Northern Hemisphere - Max Temp vs. Latitude Linear Regression"
   ]
  },
  {
   "cell_type": "code",
   "execution_count": 33,
   "metadata": {},
   "outputs": [
    {
     "name": "stdout",
     "output_type": "stream",
     "text": [
      "308.06411706444135\n",
      "-0.8194046899519187\n"
     ]
    },
    {
     "data": {
      "image/png": "[encoded data removed]",
      "text/plain": [
       "<Figure size 432x288 with 1 Axes>"
      ]
     },
     "metadata": {
      "needs_background": "light"
     },
     "output_type": "display_data"
    },
    {
     "name": "stdout",
     "output_type": "stream",
     "text": [
      "Regression =  -0.82 + 308.06\n",
      "R-Value = -0.8500338267041511\n"
     ]
    }
   ],
   "source": [
    "x = northern_df['Latitude']\n",
    "y = northern_df['Max Temp']\n",
    "result = linregress(x, y)\n",
    "regress_values = x * slope + intercept\n",
    "line_eq = f\" {(round(slope,2))} + {(round(intercept,2))}\"\n",
    "plt.scatter(x, y)\n",
    "plt.plot(x, result.intercept + result.slope*x, 'r')\n",
    "plt.xlabel('City Latitude')\n",
    "plt.ylabel('Max Temperature (F)')\n",
    "plt.title('Northern Hemisphere: Latitude vs. Max Temp')\n",
    "plt.show()\n",
    "print(f\"Regression = {line_eq}\")\n",
    "print(f\"R-Value = {rvalue}\")"
   ]
  },
  {
   "cell_type": "markdown",
   "metadata": {},
   "source": [
    "####  Southern Hemisphere - Max Temp vs. Latitude Linear Regression"
   ]
  },
  {
   "cell_type": "code",
   "execution_count": 34,
   "metadata": {},
   "outputs": [
    {
     "data": {
      "image/png": "[encoded data removed]",
      "text/plain": [
       "<Figure size 432x288 with 1 Axes>"
      ]
     },
     "metadata": {
      "needs_background": "light"
     },
     "output_type": "display_data"
    },
    {
     "name": "stdout",
     "output_type": "stream",
     "text": [
      "Regression =  -0.82 + 308.06\n",
      "R-Value = -0.8500338267041511\n"
     ]
    }
   ],
   "source": [
    "x = southern_df['Latitude']\n",
    "y = southern_df['Max Temp']\n",
    "result = linregress(x, y)\n",
    "regress_values = x * slope + intercept\n",
    "line_eq = f\" {(round(slope,2))} + {(round(intercept,2))}\"\n",
    "plt.scatter(x, y)\n",
    "plt.plot(x, result.intercept + result.slope*x, 'r')\n",
    "plt.xlabel('City Latitude')\n",
    "plt.ylabel('Max Temperature (F)')\n",
    "plt.title('Souther Hemisphere: Latitude vs. Max Temp')\n",
    "plt.show()\n",
    "print(f\"Regression = {line_eq}\")\n",
    "print(f\"R-Value = {rvalue}\")"
   ]
  },
  {
   "cell_type": "markdown",
   "metadata": {},
   "source": [
    "####  Northern Hemisphere - Humidity (%) vs. Latitude Linear Regression"
   ]
  },
  {
   "cell_type": "code",
   "execution_count": 35,
   "metadata": {},
   "outputs": [
    {
     "data": {
      "image/png": "[encoded data removed]",
      "text/plain": [
       "<Figure size 432x288 with 1 Axes>"
      ]
     },
     "metadata": {
      "needs_background": "light"
     },
     "output_type": "display_data"
    },
    {
     "name": "stdout",
     "output_type": "stream",
     "text": [
      "Regression =  0.55 + 49.89\n",
      "R-Value = 0.4520482323455991\n"
     ]
    }
   ],
   "source": [
    "x = northern_df['Latitude']\n",
    "y = northern_df['Humidity']\n",
    "(slope, intercept, rvalue, pvalue, stderr) = linregress(x, y)\n",
    "regress_values = x * slope + intercept\n",
    "line_eq = f\" {(round(slope,2))} + {(round(intercept,2))}\"\n",
    "plt.scatter(x, y)\n",
    "plt.plot(x, result.intercept + result.slope*x, 'r')\n",
    "plt.xlabel('City Latitude')\n",
    "plt.ylabel('Humidity')\n",
    "plt.title('Northern Hemisphere: Latitude vs. Humidity')\n",
    "plt.show()\n",
    "print(f\"Regression = {line_eq}\")\n",
    "print(f\"R-Value = {rvalue}\")"
   ]
  },
  {
   "cell_type": "markdown",
   "metadata": {},
   "source": [
    "####  Southern Hemisphere - Humidity (%) vs. Latitude Linear Regression"
   ]
  },
  {
   "cell_type": "code",
   "execution_count": 36,
   "metadata": {},
   "outputs": [
    {
     "data": {
      "image/png": "[encoded data removed]",
      "text/plain": [
       "<Figure size 432x288 with 1 Axes>"
      ]
     },
     "metadata": {
      "needs_background": "light"
     },
     "output_type": "display_data"
    },
    {
     "name": "stdout",
     "output_type": "stream",
     "text": [
      "Regression =  0.26 + 76.99\n",
      "R-Value = 0.16404570911491972\n"
     ]
    }
   ],
   "source": [
    "x = southern_df['Latitude']\n",
    "y = southern_df['Humidity']\n",
    "(slope, intercept, rvalue, pvalue, stderr) = linregress(x, y)\n",
    "regress_values = x * slope + intercept\n",
    "line_eq = f\" {(round(slope,2))} + {(round(intercept,2))}\"\n",
    "plt.scatter(x, y)\n",
    "plt.plot(x, result.intercept + result.slope*x, 'r')\n",
    "plt.xlabel('City Latitude')\n",
    "plt.ylabel('Max Temperature (F)')\n",
    "plt.title('Southern Hemisphere: Latitude vs. Humidity')\n",
    "plt.show()\n",
    "print(f\"Regression = {line_eq}\")\n",
    "print(f\"R-Value = {rvalue}\")"
   ]
  },
  {
   "cell_type": "markdown",
   "metadata": {},
   "source": [
    "####  Northern Hemisphere - Cloudiness (%) vs. Latitude Linear Regression"
   ]
  },
  {
   "cell_type": "code",
   "execution_count": 37,
   "metadata": {},
   "outputs": [
    {
     "data": {
      "image/png": "[encoded data removed]",
      "text/plain": [
       "<Figure size 432x288 with 1 Axes>"
      ]
     },
     "metadata": {
      "needs_background": "light"
     },
     "output_type": "display_data"
    },
    {
     "name": "stdout",
     "output_type": "stream",
     "text": [
      "Regression =  -0.61 + 796.85\n",
      "R-Value = -0.1516775572113993\n"
     ]
    }
   ],
   "source": [
    "x = northern_df['Latitude']\n",
    "y = northern_df['Cloudiness']\n",
    "(slope, intercept, rvalue, pvalue, stderr) = linregress(x, y)\n",
    "regress_values = x * slope + intercept\n",
    "line_eq = f\" {(round(slope,2))} + {(round(intercept,2))}\"\n",
    "plt.scatter(x, y)\n",
    "plt.plot(x, result.intercept + result.slope*x, 'r')\n",
    "plt.xlabel('City Latitude')\n",
    "plt.ylabel('Max Temperature (F)')\n",
    "plt.title('Northern Hemisphere: Latitude vs. Cloudiness')\n",
    "plt.show()\n",
    "print(f\"Regression = {line_eq}\")\n",
    "print(f\"R-Value = {rvalue}\")"
   ]
  },
  {
   "cell_type": "markdown",
   "metadata": {},
   "source": [
    "####  Southern Hemisphere - Cloudiness (%) vs. Latitude Linear Regression"
   ]
  },
  {
   "cell_type": "code",
   "execution_count": 38,
   "metadata": {},
   "outputs": [
    {
     "data": {
      "image/png": "[encoded data removed]",
      "text/plain": [
       "<Figure size 432x288 with 1 Axes>"
      ]
     },
     "metadata": {
      "needs_background": "light"
     },
     "output_type": "display_data"
    },
    {
     "name": "stdout",
     "output_type": "stream",
     "text": [
      "Regression =  -1.66 + 702.33\n",
      "R-Value = -0.15307269810228177\n"
     ]
    }
   ],
   "source": [
    "x = southern_df['Latitude']\n",
    "y = southern_df['Cloudiness']\n",
    "(slope, intercept, rvalue, pvalue, stderr) = linregress(x, y)\n",
    "line_eq = f\" {(round(slope,2))} + {(round(intercept,2))}\"\n",
    "plt.scatter(x, y)\n",
    "plt.plot(x, result.intercept + result.slope*x, 'r')\n",
    "plt.xlabel('City Latitude')\n",
    "plt.ylabel('Max Temperature (F)')\n",
    "plt.title('Southern Hemisphere: Latitude vs. Cloudiness')\n",
    "plt.show()\n",
    "print(f\"Regression = {line_eq}\")\n",
    "print(f\"R-Value = {rvalue}\")"
   ]
  },
  {
   "cell_type": "markdown",
   "metadata": {},
   "source": [
    "####  Northern Hemisphere - Wind Speed (mph) vs. Latitude Linear Regression"
   ]
  },
  {
   "cell_type": "code",
   "execution_count": 39,
   "metadata": {},
   "outputs": [
    {
     "data": {
      "image/png": "[encoded data removed]",
      "text/plain": [
       "<Figure size 432x288 with 1 Axes>"
      ]
     },
     "metadata": {
      "needs_background": "light"
     },
     "output_type": "display_data"
    },
    {
     "name": "stdout",
     "output_type": "stream",
     "text": [
      "Regression =  0.0 + 3.56\n",
      "R-Value = 0.00028767023729303035\n"
     ]
    }
   ],
   "source": [
    "x = northern_df['Latitude']\n",
    "y = northern_df['Wind Speed']\n",
    "(slope, intercept, rvalue, pvalue, stderr) = linregress(x, y)\n",
    "regress_values = x * slope + intercept\n",
    "line_eq = f\" {(round(slope,2))} + {(round(intercept,2))}\"\n",
    "plt.scatter(x, y)\n",
    "plt.plot(x, result.intercept + result.slope*x, 'r')\n",
    "plt.xlabel('City Latitude')\n",
    "plt.ylabel('Max Temperature (F)')\n",
    "plt.title('Northern Hemisphere: Latitude vs. Wind Speed')\n",
    "plt.show()\n",
    "print(f\"Regression = {line_eq}\")\n",
    "print(f\"R-Value = {rvalue}\")"
   ]
  },
  {
   "cell_type": "markdown",
   "metadata": {},
   "source": [
    "####  Southern Hemisphere - Wind Speed (mph) vs. Latitude Linear Regression"
   ]
  },
  {
   "cell_type": "code",
   "execution_count": 40,
   "metadata": {},
   "outputs": [
    {
     "data": {
      "image/png": "[encoded data removed]",
      "text/plain": [
       "<Figure size 432x288 with 1 Axes>"
      ]
     },
     "metadata": {
      "needs_background": "light"
     },
     "output_type": "display_data"
    },
    {
     "name": "stdout",
     "output_type": "stream",
     "text": [
      "Regression =  -0.04 + 2.59\n",
      "R-Value = -0.21837583107062447\n"
     ]
    }
   ],
   "source": [
    "x = southern_df['Latitude']\n",
    "y = southern_df['Wind Speed']\n",
    "(slope, intercept, rvalue, pvalue, stderr) = linregress(x, y)\n",
    "regress_values = x * slope + intercept\n",
    "line_eq = f\" {(round(slope,2))} + {(round(intercept,2))}\"\n",
    "plt.scatter(x, y)\n",
    "plt.plot(x, result.intercept + result.slope*x, 'r')\n",
    "plt.xlabel('City Latitude')\n",
    "plt.ylabel('Max Temperature (F)')\n",
    "plt.title('Southern Hemisphere: Latitude vs. Wind Speed')\n",
    "plt.show()\n",
    "print(f\"Regression = {line_eq}\")\n",
    "print(f\"R-Value = {rvalue}\")"
   ]
  },
  {
   "cell_type": "code",
   "execution_count": null,
   "metadata": {},
   "outputs": [],
   "source": []
  }
 ],
 "metadata": {
  "anaconda-cloud": {},
  "kernel_info": {
   "name": "python3"
  },
  "kernelspec": {
   "display_name": "Python 3",
   "language": "python",
   "name": "python3"
  },
  "language_info": {
   "codemirror_mode": {
    "name": "ipython",
    "version": 3
   },
   "file_extension": ".py",
   "mimetype": "text/x-python",
   "name": "python",
   "nbconvert_exporter": "python",
   "pygments_lexer": "ipython3",
   "version": "3.8.5"
  },
  "latex_envs": {
   "LaTeX_envs_menu_present": true,
   "autoclose": false,
   "autocomplete": true,
   "bibliofile": "biblio.bib",
   "cite_by": "apalike",
   "current_citInitial": 1,
   "eqLabelWithNumbers": true,
   "eqNumInitial": 1,
   "hotkeys": {
    "equation": "Ctrl-E",
    "itemize": "Ctrl-I"
   },
   "labels_anchors": false,
   "latex_user_defs": false,
   "report_style_numbering": false,
   "user_envs_cfg": false
  },
  "nteract": {
   "version": "0.12.3"
  }
 },
 "nbformat": 4,
 "nbformat_minor": 2
}
