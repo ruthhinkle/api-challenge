{
 "cells": [
  {
   "cell_type": "markdown",
   "metadata": {},
   "source": [
    "# WeatherPy\n",
    "----\n",
    "\n",
    "#### Note\n",
    "* Instructions have been included for each segment. You do not have to follow them exactly, but they are included to help you think through the steps."
   ]
  },
  {
   "cell_type": "code",
   "execution_count": 1,
   "metadata": {
    "scrolled": true
   },
   "outputs": [],
   "source": [
    "# Dependencies and Setup\n",
    "import matplotlib.pyplot as plt\n",
    "import pandas as pd\n",
    "import numpy as np\n",
    "import requests\n",
    "import time\n",
    "from scipy.stats import linregress\n",
    "from pprint import pprint\n",
    "\n",
    "# Import API key\n",
    "from api_keys import weather_api_key\n",
    "\n",
    "# Incorporated citipy to determine city based on latitude and longitude\n",
    "from citipy import citipy\n",
    "\n",
    "# Output File (CSV)\n",
    "output_data_file = \"output_data/cities.csv\"\n",
    "\n",
    "# Range of latitudes and longitudes\n",
    "lat_range = (-90, 90)\n",
    "lng_range = (-180, 180)"
   ]
  },
  {
   "cell_type": "markdown",
   "metadata": {},
   "source": [
    "## Generate Cities List"
   ]
  },
  {
   "cell_type": "code",
   "execution_count": 4,
   "metadata": {},
   "outputs": [
    {
     "data": {
      "text/plain": [
       "2939"
      ]
     },
     "execution_count": 4,
     "metadata": {},
     "output_type": "execute_result"
    }
   ],
   "source": [
    "# List for holding lat_lngs and cities\n",
    "cities = []\n",
    "\n",
    "# Create a set of random lat and lng combinations\n",
    "lats = np.random.uniform(lat_range[0], lat_range[1], size=15000)\n",
    "lngs = np.random.uniform(lng_range[0], lng_range[1], size=15000)\n",
    "lat_lngs = list(zip(lats, lngs))\n",
    "\n",
    "# Identify nearest city for each lat, lng combination\n",
    "for lat_lng in lat_lngs:\n",
    "    city = citipy.nearest_city(lat_lng[0], lat_lng[1]).city_name\n",
    "    \n",
    "    # If the city is unique, then add it to a our cities list\n",
    "    if city not in cities:\n",
    "        cities.append(city)\n",
    "\n",
    "# Print the city count to confirm sufficient count\n",
    "len(cities)"
   ]
  },
  {
   "cell_type": "markdown",
   "metadata": {},
   "source": [
    "### Perform API Calls\n",
    "* Perform a weather check on each city using a series of successive API calls.\n",
    "* Include a print log of each city as it'sbeing processed (with the city number and city name).\n"
   ]
  },
  {
   "cell_type": "code",
   "execution_count": 5,
   "metadata": {
    "scrolled": true
   },
   "outputs": [
    {
     "name": "stdout",
     "output_type": "stream",
     "text": [
      "{'base': 'stations',\n",
      " 'clouds': {'all': 100},\n",
      " 'cod': 200,\n",
      " 'coord': {'lat': 14.8961, 'lon': -24.4956},\n",
      " 'dt': 1611942534,\n",
      " 'id': 3374210,\n",
      " 'main': {'feels_like': 297.91,\n",
      "          'grnd_level': 1002,\n",
      "          'humidity': 55,\n",
      "          'pressure': 1014,\n",
      "          'sea_level': 1014,\n",
      "          'temp': 298.69,\n",
      "          'temp_max': 298.69,\n",
      "          'temp_min': 298.69},\n",
      " 'name': 'São Filipe',\n",
      " 'sys': {'country': 'CV', 'sunrise': 1611907625, 'sunset': 1611948900},\n",
      " 'timezone': -3600,\n",
      " 'visibility': 10000,\n",
      " 'weather': [{'description': 'overcast clouds',\n",
      "              'icon': '04d',\n",
      "              'id': 804,\n",
      "              'main': 'Clouds'}],\n",
      " 'wind': {'deg': 77, 'speed': 3.86}}\n"
     ]
    }
   ],
   "source": [
    "city = cities[0]\n",
    "city_url = f\"https://api.openweathermap.org/data/2.5/weather?q={city}&appid={weather_api_key}\"\n",
    "city_data= requests.get(city_url).json()\n",
    "pprint(city_data)"
   ]
  },
  {
   "cell_type": "code",
   "execution_count": 6,
   "metadata": {
    "scrolled": true
   },
   "outputs": [
    {
     "name": "stdout",
     "output_type": "stream",
     "text": [
      "CV\n"
     ]
    }
   ],
   "source": [
    "name = city_data[\"name\"]\n",
    "lat = city_data['coord']['lat']\n",
    "lng = city_data['coord']['lon']\n",
    "max_temp = city_data['main']['temp_max']\n",
    "humidity = city_data['main']['humidity']\n",
    "cloudiness = city_data['weather'][0]['id']\n",
    "wind_speed = city_data['wind']['speed']\n",
    "date = city_data['dt']\n",
    "country = city_data['sys']['country']\n",
    "print(country)"
   ]
  },
  {
   "cell_type": "code",
   "execution_count": 7,
   "metadata": {},
   "outputs": [],
   "source": [
    "#Create dictionary and lists\n",
    "global_weather = {}\n",
    "names = []\n",
    "lats = []\n",
    "lngs = []\n",
    "max_temps = []\n",
    "humidities = []\n",
    "clouds = []\n",
    "speeds = []\n",
    "dates = []\n",
    "countries = []\n",
    "\n",
    "for city in cities[0:20]:\n",
    "    city_url = f\"https://api.openweathermap.org/data/2.5/weather?q={city}&appid={weather_api_key}\"\n",
    "    \n",
    "    try:\n",
    "    \n",
    "        city_data = requests.get(city_url).json()\n",
    "        names.append(city_data[\"name\"])\n",
    "        lats.append(city_data['coord']['lat'])\n",
    "        lngs.append(city_data['coord']['lon'])\n",
    "        max_temps.append(city_data['main']['temp_max'])\n",
    "        humidities.append(city_data['main']['humidity'])\n",
    "        clouds.append(city_data['weather'][0]['id'])\n",
    "        speeds.append(city_data['wind']['speed'])\n",
    "        countries.append(city_data['sys']['country'])\n",
    "        dates.append(city_data['dt'])\n",
    "    \n",
    "    except: \n",
    "        pass  \n",
    "\n",
    "global_weather['Name'] = names\n",
    "global_weather['Latitude'] = lats\n",
    "global_weather['Longitude'] = lngs\n",
    "global_weather['Max Temp'] = max_temps\n",
    "global_weather['Humidity'] = humidities\n",
    "global_weather['Cloudiness'] = clouds\n",
    "global_weather['Wind Speed'] = speeds\n",
    "global_weather['Country'] = countries\n",
    "global_weather['Date'] = dates"
   ]
  },
  {
   "cell_type": "markdown",
   "metadata": {},
   "source": [
    "### Convert Raw Data to DataFrame\n",
    "* Export the city data into a .csv.\n",
    "* Display the DataFrame"
   ]
  },
  {
   "cell_type": "code",
   "execution_count": 10,
   "metadata": {
    "scrolled": true
   },
   "outputs": [
    {
     "data": {
      "text/html": [
       "<div>\n",
       "<style scoped>\n",
       "    .dataframe tbody tr th:only-of-type {\n",
       "        vertical-align: middle;\n",
       "    }\n",
       "\n",
       "    .dataframe tbody tr th {\n",
       "        vertical-align: top;\n",
       "    }\n",
       "\n",
       "    .dataframe thead th {\n",
       "        text-align: right;\n",
       "    }\n",
       "</style>\n",
       "<table border=\"1\" class=\"dataframe\">\n",
       "  <thead>\n",
       "    <tr style=\"text-align: right;\">\n",
       "      <th></th>\n",
       "      <th>Name</th>\n",
       "      <th>Latitude</th>\n",
       "      <th>Longitude</th>\n",
       "      <th>Max Temp</th>\n",
       "      <th>Humidity</th>\n",
       "      <th>Cloudiness</th>\n",
       "      <th>Wind Speed</th>\n",
       "      <th>Country</th>\n",
       "      <th>Date</th>\n",
       "    </tr>\n",
       "  </thead>\n",
       "  <tbody>\n",
       "    <tr>\n",
       "      <th>0</th>\n",
       "      <td>São Filipe</td>\n",
       "      <td>14.8961</td>\n",
       "      <td>-24.4956</td>\n",
       "      <td>298.69</td>\n",
       "      <td>55</td>\n",
       "      <td>804</td>\n",
       "      <td>3.86</td>\n",
       "      <td>CV</td>\n",
       "      <td>1611942534</td>\n",
       "    </tr>\n",
       "    <tr>\n",
       "      <th>1</th>\n",
       "      <td>Tabora</td>\n",
       "      <td>-5.0167</td>\n",
       "      <td>32.8000</td>\n",
       "      <td>293.54</td>\n",
       "      <td>83</td>\n",
       "      <td>500</td>\n",
       "      <td>1.10</td>\n",
       "      <td>TZ</td>\n",
       "      <td>1611942534</td>\n",
       "    </tr>\n",
       "    <tr>\n",
       "      <th>2</th>\n",
       "      <td>Abhā</td>\n",
       "      <td>18.2164</td>\n",
       "      <td>42.5053</td>\n",
       "      <td>288.15</td>\n",
       "      <td>77</td>\n",
       "      <td>800</td>\n",
       "      <td>5.14</td>\n",
       "      <td>SA</td>\n",
       "      <td>1611942534</td>\n",
       "    </tr>\n",
       "    <tr>\n",
       "      <th>3</th>\n",
       "      <td>Rāzole</td>\n",
       "      <td>16.4833</td>\n",
       "      <td>81.8333</td>\n",
       "      <td>293.88</td>\n",
       "      <td>91</td>\n",
       "      <td>803</td>\n",
       "      <td>1.15</td>\n",
       "      <td>IN</td>\n",
       "      <td>1611942535</td>\n",
       "    </tr>\n",
       "    <tr>\n",
       "      <th>4</th>\n",
       "      <td>Guerrero Negro</td>\n",
       "      <td>27.9769</td>\n",
       "      <td>-114.0611</td>\n",
       "      <td>290.59</td>\n",
       "      <td>56</td>\n",
       "      <td>800</td>\n",
       "      <td>3.90</td>\n",
       "      <td>MX</td>\n",
       "      <td>1611942535</td>\n",
       "    </tr>\n",
       "    <tr>\n",
       "      <th>5</th>\n",
       "      <td>Vredendal</td>\n",
       "      <td>-31.6683</td>\n",
       "      <td>18.5012</td>\n",
       "      <td>292.48</td>\n",
       "      <td>65</td>\n",
       "      <td>800</td>\n",
       "      <td>7.31</td>\n",
       "      <td>ZA</td>\n",
       "      <td>1611942535</td>\n",
       "    </tr>\n",
       "    <tr>\n",
       "      <th>6</th>\n",
       "      <td>Qaanaaq</td>\n",
       "      <td>77.4840</td>\n",
       "      <td>-69.3632</td>\n",
       "      <td>247.19</td>\n",
       "      <td>59</td>\n",
       "      <td>800</td>\n",
       "      <td>2.05</td>\n",
       "      <td>GL</td>\n",
       "      <td>1611942536</td>\n",
       "    </tr>\n",
       "    <tr>\n",
       "      <th>7</th>\n",
       "      <td>Punta Arenas</td>\n",
       "      <td>-53.1500</td>\n",
       "      <td>-70.9167</td>\n",
       "      <td>282.15</td>\n",
       "      <td>53</td>\n",
       "      <td>803</td>\n",
       "      <td>9.26</td>\n",
       "      <td>CL</td>\n",
       "      <td>1611942536</td>\n",
       "    </tr>\n",
       "    <tr>\n",
       "      <th>8</th>\n",
       "      <td>Qasigiannguit</td>\n",
       "      <td>68.8193</td>\n",
       "      <td>-51.1922</td>\n",
       "      <td>256.15</td>\n",
       "      <td>51</td>\n",
       "      <td>800</td>\n",
       "      <td>2.06</td>\n",
       "      <td>GL</td>\n",
       "      <td>1611942536</td>\n",
       "    </tr>\n",
       "    <tr>\n",
       "      <th>9</th>\n",
       "      <td>Kaitangata</td>\n",
       "      <td>-46.2817</td>\n",
       "      <td>169.8464</td>\n",
       "      <td>279.08</td>\n",
       "      <td>92</td>\n",
       "      <td>801</td>\n",
       "      <td>2.75</td>\n",
       "      <td>NZ</td>\n",
       "      <td>1611942536</td>\n",
       "    </tr>\n",
       "    <tr>\n",
       "      <th>10</th>\n",
       "      <td>Lompoc</td>\n",
       "      <td>34.6391</td>\n",
       "      <td>-120.4579</td>\n",
       "      <td>282.15</td>\n",
       "      <td>93</td>\n",
       "      <td>500</td>\n",
       "      <td>3.09</td>\n",
       "      <td>US</td>\n",
       "      <td>1611942449</td>\n",
       "    </tr>\n",
       "    <tr>\n",
       "      <th>11</th>\n",
       "      <td>Hermanus</td>\n",
       "      <td>-34.4187</td>\n",
       "      <td>19.2345</td>\n",
       "      <td>294.26</td>\n",
       "      <td>73</td>\n",
       "      <td>800</td>\n",
       "      <td>3.28</td>\n",
       "      <td>ZA</td>\n",
       "      <td>1611942537</td>\n",
       "    </tr>\n",
       "    <tr>\n",
       "      <th>12</th>\n",
       "      <td>Yakeshi</td>\n",
       "      <td>49.2833</td>\n",
       "      <td>120.7333</td>\n",
       "      <td>241.40</td>\n",
       "      <td>86</td>\n",
       "      <td>600</td>\n",
       "      <td>1.60</td>\n",
       "      <td>CN</td>\n",
       "      <td>1611942537</td>\n",
       "    </tr>\n",
       "    <tr>\n",
       "      <th>13</th>\n",
       "      <td>Port Hardy</td>\n",
       "      <td>50.6996</td>\n",
       "      <td>-127.4199</td>\n",
       "      <td>278.15</td>\n",
       "      <td>87</td>\n",
       "      <td>804</td>\n",
       "      <td>9.26</td>\n",
       "      <td>CA</td>\n",
       "      <td>1611942537</td>\n",
       "    </tr>\n",
       "    <tr>\n",
       "      <th>14</th>\n",
       "      <td>Halifax</td>\n",
       "      <td>44.6453</td>\n",
       "      <td>-63.5724</td>\n",
       "      <td>271.15</td>\n",
       "      <td>59</td>\n",
       "      <td>600</td>\n",
       "      <td>6.69</td>\n",
       "      <td>CA</td>\n",
       "      <td>1611942303</td>\n",
       "    </tr>\n",
       "    <tr>\n",
       "      <th>15</th>\n",
       "      <td>Butaritari</td>\n",
       "      <td>3.0707</td>\n",
       "      <td>172.7902</td>\n",
       "      <td>300.04</td>\n",
       "      <td>78</td>\n",
       "      <td>500</td>\n",
       "      <td>7.75</td>\n",
       "      <td>KI</td>\n",
       "      <td>1611942537</td>\n",
       "    </tr>\n",
       "    <tr>\n",
       "      <th>16</th>\n",
       "      <td>Bluff</td>\n",
       "      <td>-46.6000</td>\n",
       "      <td>168.3333</td>\n",
       "      <td>281.40</td>\n",
       "      <td>81</td>\n",
       "      <td>802</td>\n",
       "      <td>1.11</td>\n",
       "      <td>NZ</td>\n",
       "      <td>1611942538</td>\n",
       "    </tr>\n",
       "    <tr>\n",
       "      <th>17</th>\n",
       "      <td>Grand Gaube</td>\n",
       "      <td>-20.0064</td>\n",
       "      <td>57.6608</td>\n",
       "      <td>300.37</td>\n",
       "      <td>80</td>\n",
       "      <td>800</td>\n",
       "      <td>1.79</td>\n",
       "      <td>MU</td>\n",
       "      <td>1611942538</td>\n",
       "    </tr>\n",
       "  </tbody>\n",
       "</table>\n",
       "</div>"
      ],
      "text/plain": [
       "              Name  Latitude  Longitude  Max Temp  Humidity  Cloudiness  \\\n",
       "0       São Filipe   14.8961   -24.4956    298.69        55         804   \n",
       "1           Tabora   -5.0167    32.8000    293.54        83         500   \n",
       "2             Abhā   18.2164    42.5053    288.15        77         800   \n",
       "3           Rāzole   16.4833    81.8333    293.88        91         803   \n",
       "4   Guerrero Negro   27.9769  -114.0611    290.59        56         800   \n",
       "5        Vredendal  -31.6683    18.5012    292.48        65         800   \n",
       "6          Qaanaaq   77.4840   -69.3632    247.19        59         800   \n",
       "7     Punta Arenas  -53.1500   -70.9167    282.15        53         803   \n",
       "8    Qasigiannguit   68.8193   -51.1922    256.15        51         800   \n",
       "9       Kaitangata  -46.2817   169.8464    279.08        92         801   \n",
       "10          Lompoc   34.6391  -120.4579    282.15        93         500   \n",
       "11        Hermanus  -34.4187    19.2345    294.26        73         800   \n",
       "12         Yakeshi   49.2833   120.7333    241.40        86         600   \n",
       "13      Port Hardy   50.6996  -127.4199    278.15        87         804   \n",
       "14         Halifax   44.6453   -63.5724    271.15        59         600   \n",
       "15      Butaritari    3.0707   172.7902    300.04        78         500   \n",
       "16           Bluff  -46.6000   168.3333    281.40        81         802   \n",
       "17     Grand Gaube  -20.0064    57.6608    300.37        80         800   \n",
       "\n",
       "    Wind Speed Country        Date  \n",
       "0         3.86      CV  1611942534  \n",
       "1         1.10      TZ  1611942534  \n",
       "2         5.14      SA  1611942534  \n",
       "3         1.15      IN  1611942535  \n",
       "4         3.90      MX  1611942535  \n",
       "5         7.31      ZA  1611942535  \n",
       "6         2.05      GL  1611942536  \n",
       "7         9.26      CL  1611942536  \n",
       "8         2.06      GL  1611942536  \n",
       "9         2.75      NZ  1611942536  \n",
       "10        3.09      US  1611942449  \n",
       "11        3.28      ZA  1611942537  \n",
       "12        1.60      CN  1611942537  \n",
       "13        9.26      CA  1611942537  \n",
       "14        6.69      CA  1611942303  \n",
       "15        7.75      KI  1611942537  \n",
       "16        1.11      NZ  1611942538  \n",
       "17        1.79      MU  1611942538  "
      ]
     },
     "execution_count": 10,
     "metadata": {},
     "output_type": "execute_result"
    }
   ],
   "source": [
    "weather_summary = pd.DataFrame(global_weather)\n",
    "pd.to_numeric(weather_summary['Latitude']).astype(float)\n",
    "pd.to_numeric(weather_summary['Longitude']).astype(float)\n",
    "pd.to_numeric(weather_summary['Max Temp']).astype(float)\n",
    "pd.to_numeric(weather_summary['Humidity']).astype(float)\n",
    "pd.to_numeric(weather_summary['Cloudiness']).astype(float)\n",
    "pd.to_numeric(weather_summary['Wind Speed']).astype(float)\n",
    "weather_summary"
   ]
  },
  {
   "cell_type": "code",
   "execution_count": 11,
   "metadata": {},
   "outputs": [],
   "source": [
    "weather_summary.to_csv(\"Output Data/cities.csv\")"
   ]
  },
  {
   "cell_type": "code",
   "execution_count": 100,
   "metadata": {},
   "outputs": [
    {
     "data": {
      "text/html": [
       "<div>\n",
       "<style scoped>\n",
       "    .dataframe tbody tr th:only-of-type {\n",
       "        vertical-align: middle;\n",
       "    }\n",
       "\n",
       "    .dataframe tbody tr th {\n",
       "        vertical-align: top;\n",
       "    }\n",
       "\n",
       "    .dataframe thead th {\n",
       "        text-align: right;\n",
       "    }\n",
       "</style>\n",
       "<table border=\"1\" class=\"dataframe\">\n",
       "  <thead>\n",
       "    <tr style=\"text-align: right;\">\n",
       "      <th></th>\n",
       "      <th>Name</th>\n",
       "      <th>Latitude</th>\n",
       "      <th>Longitude</th>\n",
       "      <th>Max Temp</th>\n",
       "      <th>Humidity</th>\n",
       "      <th>Cloudiness</th>\n",
       "      <th>Wind Speed</th>\n",
       "      <th>Date</th>\n",
       "    </tr>\n",
       "  </thead>\n",
       "  <tbody>\n",
       "    <tr>\n",
       "      <th>0</th>\n",
       "      <td>Aksu</td>\n",
       "      <td>41.1231</td>\n",
       "      <td>80.2644</td>\n",
       "      <td>266.05</td>\n",
       "      <td>83</td>\n",
       "      <td>800</td>\n",
       "      <td>1.13</td>\n",
       "      <td>1611855992</td>\n",
       "    </tr>\n",
       "    <tr>\n",
       "      <th>1</th>\n",
       "      <td>Avarua</td>\n",
       "      <td>-21.2078</td>\n",
       "      <td>-159.7750</td>\n",
       "      <td>300.15</td>\n",
       "      <td>83</td>\n",
       "      <td>802</td>\n",
       "      <td>4.12</td>\n",
       "      <td>1611856002</td>\n",
       "    </tr>\n",
       "    <tr>\n",
       "      <th>2</th>\n",
       "      <td>Taltal</td>\n",
       "      <td>-25.4000</td>\n",
       "      <td>-70.4833</td>\n",
       "      <td>294.92</td>\n",
       "      <td>60</td>\n",
       "      <td>802</td>\n",
       "      <td>3.32</td>\n",
       "      <td>1611856003</td>\n",
       "    </tr>\n",
       "    <tr>\n",
       "      <th>3</th>\n",
       "      <td>Caucayá</td>\n",
       "      <td>-0.1934</td>\n",
       "      <td>-74.7819</td>\n",
       "      <td>306.14</td>\n",
       "      <td>45</td>\n",
       "      <td>802</td>\n",
       "      <td>2.33</td>\n",
       "      <td>1611856003</td>\n",
       "    </tr>\n",
       "    <tr>\n",
       "      <th>4</th>\n",
       "      <td>Punta Arenas</td>\n",
       "      <td>-53.1500</td>\n",
       "      <td>-70.9167</td>\n",
       "      <td>283.15</td>\n",
       "      <td>62</td>\n",
       "      <td>500</td>\n",
       "      <td>9.77</td>\n",
       "      <td>1611856003</td>\n",
       "    </tr>\n",
       "    <tr>\n",
       "      <th>5</th>\n",
       "      <td>Pachino</td>\n",
       "      <td>36.7186</td>\n",
       "      <td>15.0907</td>\n",
       "      <td>285.15</td>\n",
       "      <td>87</td>\n",
       "      <td>803</td>\n",
       "      <td>1.54</td>\n",
       "      <td>1611856004</td>\n",
       "    </tr>\n",
       "    <tr>\n",
       "      <th>6</th>\n",
       "      <td>Prescott</td>\n",
       "      <td>34.5400</td>\n",
       "      <td>-112.4685</td>\n",
       "      <td>278.15</td>\n",
       "      <td>70</td>\n",
       "      <td>804</td>\n",
       "      <td>1.31</td>\n",
       "      <td>1611855935</td>\n",
       "    </tr>\n",
       "    <tr>\n",
       "      <th>7</th>\n",
       "      <td>Dikson</td>\n",
       "      <td>73.5069</td>\n",
       "      <td>80.5464</td>\n",
       "      <td>237.86</td>\n",
       "      <td>80</td>\n",
       "      <td>803</td>\n",
       "      <td>3.00</td>\n",
       "      <td>1611856005</td>\n",
       "    </tr>\n",
       "    <tr>\n",
       "      <th>8</th>\n",
       "      <td>Bāndarban</td>\n",
       "      <td>22.1965</td>\n",
       "      <td>92.2262</td>\n",
       "      <td>287.03</td>\n",
       "      <td>62</td>\n",
       "      <td>800</td>\n",
       "      <td>0.82</td>\n",
       "      <td>1611856005</td>\n",
       "    </tr>\n",
       "    <tr>\n",
       "      <th>9</th>\n",
       "      <td>George Town</td>\n",
       "      <td>5.4112</td>\n",
       "      <td>100.3354</td>\n",
       "      <td>299.15</td>\n",
       "      <td>94</td>\n",
       "      <td>802</td>\n",
       "      <td>1.54</td>\n",
       "      <td>1611856005</td>\n",
       "    </tr>\n",
       "    <tr>\n",
       "      <th>10</th>\n",
       "      <td>Bethel</td>\n",
       "      <td>41.3712</td>\n",
       "      <td>-73.4140</td>\n",
       "      <td>270.93</td>\n",
       "      <td>50</td>\n",
       "      <td>800</td>\n",
       "      <td>9.26</td>\n",
       "      <td>1611855894</td>\n",
       "    </tr>\n",
       "    <tr>\n",
       "      <th>11</th>\n",
       "      <td>Berkåk</td>\n",
       "      <td>62.8250</td>\n",
       "      <td>10.0118</td>\n",
       "      <td>263.96</td>\n",
       "      <td>83</td>\n",
       "      <td>803</td>\n",
       "      <td>4.25</td>\n",
       "      <td>1611856006</td>\n",
       "    </tr>\n",
       "    <tr>\n",
       "      <th>12</th>\n",
       "      <td>Hithadhoo</td>\n",
       "      <td>-0.6000</td>\n",
       "      <td>73.0833</td>\n",
       "      <td>300.75</td>\n",
       "      <td>72</td>\n",
       "      <td>804</td>\n",
       "      <td>4.57</td>\n",
       "      <td>1611856006</td>\n",
       "    </tr>\n",
       "    <tr>\n",
       "      <th>13</th>\n",
       "      <td>Hobart</td>\n",
       "      <td>-42.8794</td>\n",
       "      <td>147.3294</td>\n",
       "      <td>288.15</td>\n",
       "      <td>55</td>\n",
       "      <td>804</td>\n",
       "      <td>5.14</td>\n",
       "      <td>1611855713</td>\n",
       "    </tr>\n",
       "    <tr>\n",
       "      <th>14</th>\n",
       "      <td>High Level</td>\n",
       "      <td>58.5169</td>\n",
       "      <td>-117.1360</td>\n",
       "      <td>246.15</td>\n",
       "      <td>83</td>\n",
       "      <td>802</td>\n",
       "      <td>1.03</td>\n",
       "      <td>1611856007</td>\n",
       "    </tr>\n",
       "    <tr>\n",
       "      <th>15</th>\n",
       "      <td>Yerbogachën</td>\n",
       "      <td>61.2767</td>\n",
       "      <td>108.0108</td>\n",
       "      <td>232.35</td>\n",
       "      <td>79</td>\n",
       "      <td>802</td>\n",
       "      <td>2.77</td>\n",
       "      <td>1611856007</td>\n",
       "    </tr>\n",
       "    <tr>\n",
       "      <th>16</th>\n",
       "      <td>Hilo</td>\n",
       "      <td>19.7297</td>\n",
       "      <td>-155.0900</td>\n",
       "      <td>292.15</td>\n",
       "      <td>77</td>\n",
       "      <td>801</td>\n",
       "      <td>3.09</td>\n",
       "      <td>1611856007</td>\n",
       "    </tr>\n",
       "    <tr>\n",
       "      <th>17</th>\n",
       "      <td>Sicamous</td>\n",
       "      <td>50.8331</td>\n",
       "      <td>-118.9856</td>\n",
       "      <td>272.15</td>\n",
       "      <td>93</td>\n",
       "      <td>804</td>\n",
       "      <td>0.51</td>\n",
       "      <td>1611855958</td>\n",
       "    </tr>\n",
       "  </tbody>\n",
       "</table>\n",
       "</div>"
      ],
      "text/plain": [
       "            Name  Latitude  Longitude  Max Temp  Humidity  Cloudiness  \\\n",
       "0           Aksu   41.1231    80.2644    266.05        83         800   \n",
       "1         Avarua  -21.2078  -159.7750    300.15        83         802   \n",
       "2         Taltal  -25.4000   -70.4833    294.92        60         802   \n",
       "3        Caucayá   -0.1934   -74.7819    306.14        45         802   \n",
       "4   Punta Arenas  -53.1500   -70.9167    283.15        62         500   \n",
       "5        Pachino   36.7186    15.0907    285.15        87         803   \n",
       "6       Prescott   34.5400  -112.4685    278.15        70         804   \n",
       "7         Dikson   73.5069    80.5464    237.86        80         803   \n",
       "8      Bāndarban   22.1965    92.2262    287.03        62         800   \n",
       "9    George Town    5.4112   100.3354    299.15        94         802   \n",
       "10        Bethel   41.3712   -73.4140    270.93        50         800   \n",
       "11        Berkåk   62.8250    10.0118    263.96        83         803   \n",
       "12     Hithadhoo   -0.6000    73.0833    300.75        72         804   \n",
       "13        Hobart  -42.8794   147.3294    288.15        55         804   \n",
       "14    High Level   58.5169  -117.1360    246.15        83         802   \n",
       "15   Yerbogachën   61.2767   108.0108    232.35        79         802   \n",
       "16          Hilo   19.7297  -155.0900    292.15        77         801   \n",
       "17      Sicamous   50.8331  -118.9856    272.15        93         804   \n",
       "\n",
       "    Wind Speed        Date  \n",
       "0         1.13  1611855992  \n",
       "1         4.12  1611856002  \n",
       "2         3.32  1611856003  \n",
       "3         2.33  1611856003  \n",
       "4         9.77  1611856003  \n",
       "5         1.54  1611856004  \n",
       "6         1.31  1611855935  \n",
       "7         3.00  1611856005  \n",
       "8         0.82  1611856005  \n",
       "9         1.54  1611856005  \n",
       "10        9.26  1611855894  \n",
       "11        4.25  1611856006  \n",
       "12        4.57  1611856006  \n",
       "13        5.14  1611855713  \n",
       "14        1.03  1611856007  \n",
       "15        2.77  1611856007  \n",
       "16        3.09  1611856007  \n",
       "17        0.51  1611855958  "
      ]
     },
     "execution_count": 100,
     "metadata": {},
     "output_type": "execute_result"
    }
   ],
   "source": [
    "weather_summary"
   ]
  },
  {
   "cell_type": "code",
   "execution_count": 15,
   "metadata": {},
   "outputs": [
    {
     "data": {
      "text/html": [
       "<div>\n",
       "<style scoped>\n",
       "    .dataframe tbody tr th:only-of-type {\n",
       "        vertical-align: middle;\n",
       "    }\n",
       "\n",
       "    .dataframe tbody tr th {\n",
       "        vertical-align: top;\n",
       "    }\n",
       "\n",
       "    .dataframe thead th {\n",
       "        text-align: right;\n",
       "    }\n",
       "</style>\n",
       "<table border=\"1\" class=\"dataframe\">\n",
       "  <thead>\n",
       "    <tr style=\"text-align: right;\">\n",
       "      <th></th>\n",
       "      <th>City</th>\n",
       "      <th>Lat</th>\n",
       "      <th>Lng</th>\n",
       "      <th>Max Temp</th>\n",
       "      <th>Humidity</th>\n",
       "      <th>Cloudiness</th>\n",
       "      <th>Wind Speed</th>\n",
       "      <th>Country</th>\n",
       "      <th>Date</th>\n",
       "    </tr>\n",
       "  </thead>\n",
       "  <tbody>\n",
       "    <tr>\n",
       "      <td>0</td>\n",
       "      <td>butaritari</td>\n",
       "      <td>3.07</td>\n",
       "      <td>172.79</td>\n",
       "      <td>83.32</td>\n",
       "      <td>74</td>\n",
       "      <td>84</td>\n",
       "      <td>10.42</td>\n",
       "      <td>KI</td>\n",
       "      <td>1593605283</td>\n",
       "    </tr>\n",
       "    <tr>\n",
       "      <td>1</td>\n",
       "      <td>yerbogachen</td>\n",
       "      <td>61.28</td>\n",
       "      <td>108.01</td>\n",
       "      <td>79.52</td>\n",
       "      <td>58</td>\n",
       "      <td>20</td>\n",
       "      <td>7.70</td>\n",
       "      <td>RU</td>\n",
       "      <td>1593605121</td>\n",
       "    </tr>\n",
       "    <tr>\n",
       "      <td>2</td>\n",
       "      <td>cape town</td>\n",
       "      <td>-33.93</td>\n",
       "      <td>18.42</td>\n",
       "      <td>73.00</td>\n",
       "      <td>77</td>\n",
       "      <td>27</td>\n",
       "      <td>4.70</td>\n",
       "      <td>ZA</td>\n",
       "      <td>1593605039</td>\n",
       "    </tr>\n",
       "    <tr>\n",
       "      <td>3</td>\n",
       "      <td>touba</td>\n",
       "      <td>8.28</td>\n",
       "      <td>-7.68</td>\n",
       "      <td>79.97</td>\n",
       "      <td>75</td>\n",
       "      <td>82</td>\n",
       "      <td>3.58</td>\n",
       "      <td>CI</td>\n",
       "      <td>1593605284</td>\n",
       "    </tr>\n",
       "    <tr>\n",
       "      <td>4</td>\n",
       "      <td>jamestown</td>\n",
       "      <td>42.10</td>\n",
       "      <td>-79.24</td>\n",
       "      <td>64.00</td>\n",
       "      <td>88</td>\n",
       "      <td>1</td>\n",
       "      <td>6.93</td>\n",
       "      <td>US</td>\n",
       "      <td>1593605284</td>\n",
       "    </tr>\n",
       "  </tbody>\n",
       "</table>\n",
       "</div>"
      ],
      "text/plain": [
       "          City    Lat     Lng  Max Temp  Humidity  Cloudiness  Wind Speed  \\\n",
       "0   butaritari   3.07  172.79     83.32        74          84       10.42   \n",
       "1  yerbogachen  61.28  108.01     79.52        58          20        7.70   \n",
       "2    cape town -33.93   18.42     73.00        77          27        4.70   \n",
       "3        touba   8.28   -7.68     79.97        75          82        3.58   \n",
       "4    jamestown  42.10  -79.24     64.00        88           1        6.93   \n",
       "\n",
       "  Country        Date  \n",
       "0      KI  1593605283  \n",
       "1      RU  1593605121  \n",
       "2      ZA  1593605039  \n",
       "3      CI  1593605284  \n",
       "4      US  1593605284  "
      ]
     },
     "execution_count": 15,
     "metadata": {},
     "output_type": "execute_result"
    }
   ],
   "source": []
  },
  {
   "cell_type": "code",
   "execution_count": 95,
   "metadata": {},
   "outputs": [
    {
     "data": {
      "text/plain": [
       "1"
      ]
     },
     "execution_count": 95,
     "metadata": {},
     "output_type": "execute_result"
    }
   ],
   "source": [
    "# Find summary stats for each column\n",
    "weather_numeric = pd.to_numeric\n",
    "# mean = (weather_summary.mean().astype(int))\n",
    "mean = weather_data_clean.mean()\n",
    "std = weather_data_clean.std()\n",
    "minimum = weather_data_clean.min()\n",
    "maximum = weather_data_clean.max()\n",
    "quartiles = weather_summary.quantile([.25,.5,.75])\n",
    "# lowerq = quartiles[0.25].round(2)\n",
    "# upperq = quartiles[0.75].round(2)\n",
    "# iqr = (upperq-lowerq).round(2)\n",
    "# lower_bound = (lowerq - (1.5*iqr)).round(2)\n",
    "# upper_bound = (upperq + (1.5*iqr)).round(2)\n"
   ]
  },
  {
   "cell_type": "code",
   "execution_count": 97,
   "metadata": {},
   "outputs": [
    {
     "data": {
      "text/html": [
       "<div>\n",
       "<style scoped>\n",
       "    .dataframe tbody tr th:only-of-type {\n",
       "        vertical-align: middle;\n",
       "    }\n",
       "\n",
       "    .dataframe tbody tr th {\n",
       "        vertical-align: top;\n",
       "    }\n",
       "\n",
       "    .dataframe thead th {\n",
       "        text-align: right;\n",
       "    }\n",
       "</style>\n",
       "<table border=\"1\" class=\"dataframe\">\n",
       "  <thead>\n",
       "    <tr style=\"text-align: right;\">\n",
       "      <th></th>\n",
       "      <th>Cloudiness</th>\n",
       "      <th>Date</th>\n",
       "      <th>Humidity</th>\n",
       "      <th>Latitude</th>\n",
       "      <th>Longitude</th>\n",
       "      <th>Max Temp</th>\n",
       "      <th>Name</th>\n",
       "      <th>Wind Speed</th>\n",
       "    </tr>\n",
       "  </thead>\n",
       "  <tbody>\n",
       "    <tr>\n",
       "      <th>Mean</th>\n",
       "      <td>785.444</td>\n",
       "      <td>1.61186e+09</td>\n",
       "      <td>73.2222</td>\n",
       "      <td>20.2566</td>\n",
       "      <td>-13.6751</td>\n",
       "      <td>278.019</td>\n",
       "      <td>NaN</td>\n",
       "      <td>3.30556</td>\n",
       "    </tr>\n",
       "    <tr>\n",
       "      <th>Standard Deviation</th>\n",
       "      <td>71.2504</td>\n",
       "      <td>72.3544</td>\n",
       "      <td>14.5423</td>\n",
       "      <td>37.8398</td>\n",
       "      <td>102.402</td>\n",
       "      <td>21.8683</td>\n",
       "      <td>NaN</td>\n",
       "      <td>2.64868</td>\n",
       "    </tr>\n",
       "    <tr>\n",
       "      <th>Minimum</th>\n",
       "      <td>500</td>\n",
       "      <td>1611855713</td>\n",
       "      <td>45</td>\n",
       "      <td>-53.15</td>\n",
       "      <td>-159.775</td>\n",
       "      <td>232.35</td>\n",
       "      <td>Aksu</td>\n",
       "      <td>0.51</td>\n",
       "    </tr>\n",
       "    <tr>\n",
       "      <th>Maximum</th>\n",
       "      <td>804</td>\n",
       "      <td>1611856007</td>\n",
       "      <td>94</td>\n",
       "      <td>73.5069</td>\n",
       "      <td>147.329</td>\n",
       "      <td>306.14</td>\n",
       "      <td>Yerbogachën</td>\n",
       "      <td>9.77</td>\n",
       "    </tr>\n",
       "  </tbody>\n",
       "</table>\n",
       "</div>"
      ],
      "text/plain": [
       "                   Cloudiness         Date Humidity Latitude Longitude  \\\n",
       "Mean                  785.444  1.61186e+09  73.2222  20.2566  -13.6751   \n",
       "Standard Deviation    71.2504      72.3544  14.5423  37.8398   102.402   \n",
       "Minimum                   500   1611855713       45   -53.15  -159.775   \n",
       "Maximum                   804   1611856007       94  73.5069   147.329   \n",
       "\n",
       "                   Max Temp         Name Wind Speed  \n",
       "Mean                278.019          NaN    3.30556  \n",
       "Standard Deviation  21.8683          NaN    2.64868  \n",
       "Minimum              232.35         Aksu       0.51  \n",
       "Maximum              306.14  Yerbogachën       9.77  "
      ]
     },
     "execution_count": 97,
     "metadata": {},
     "output_type": "execute_result"
    }
   ],
   "source": [
    "# Gather stats in summary dataframe\n",
    "weather_stats = pd.DataFrame({'Mean' : mean,\n",
    "                             'Standard Deviation' : std,\n",
    "                             'Minimum' : minimum,\n",
    "                             'Maximum' : maximum}).transpose()\n",
    "weather_stats"
   ]
  },
  {
   "cell_type": "code",
   "execution_count": 16,
   "metadata": {
    "scrolled": true
   },
   "outputs": [
    {
     "data": {
      "text/html": [
       "<div>\n",
       "<style scoped>\n",
       "    .dataframe tbody tr th:only-of-type {\n",
       "        vertical-align: middle;\n",
       "    }\n",
       "\n",
       "    .dataframe tbody tr th {\n",
       "        vertical-align: top;\n",
       "    }\n",
       "\n",
       "    .dataframe thead th {\n",
       "        text-align: right;\n",
       "    }\n",
       "</style>\n",
       "<table border=\"1\" class=\"dataframe\">\n",
       "  <thead>\n",
       "    <tr style=\"text-align: right;\">\n",
       "      <th></th>\n",
       "      <th>Lat</th>\n",
       "      <th>Lng</th>\n",
       "      <th>Max Temp</th>\n",
       "      <th>Humidity</th>\n",
       "      <th>Cloudiness</th>\n",
       "      <th>Wind Speed</th>\n",
       "      <th>Date</th>\n",
       "    </tr>\n",
       "  </thead>\n",
       "  <tbody>\n",
       "    <tr>\n",
       "      <td>count</td>\n",
       "      <td>599.000000</td>\n",
       "      <td>599.000000</td>\n",
       "      <td>599.000000</td>\n",
       "      <td>599.000000</td>\n",
       "      <td>599.000000</td>\n",
       "      <td>599.000000</td>\n",
       "      <td>5.990000e+02</td>\n",
       "    </tr>\n",
       "    <tr>\n",
       "      <td>mean</td>\n",
       "      <td>19.877028</td>\n",
       "      <td>19.568998</td>\n",
       "      <td>69.794808</td>\n",
       "      <td>69.353923</td>\n",
       "      <td>51.569282</td>\n",
       "      <td>7.979416</td>\n",
       "      <td>1.593605e+09</td>\n",
       "    </tr>\n",
       "    <tr>\n",
       "      <td>std</td>\n",
       "      <td>33.262944</td>\n",
       "      <td>91.418472</td>\n",
       "      <td>15.678452</td>\n",
       "      <td>22.704698</td>\n",
       "      <td>35.405602</td>\n",
       "      <td>5.660694</td>\n",
       "      <td>5.738815e+01</td>\n",
       "    </tr>\n",
       "    <tr>\n",
       "      <td>min</td>\n",
       "      <td>-54.800000</td>\n",
       "      <td>-179.170000</td>\n",
       "      <td>12.200000</td>\n",
       "      <td>7.000000</td>\n",
       "      <td>0.000000</td>\n",
       "      <td>0.360000</td>\n",
       "      <td>1.593605e+09</td>\n",
       "    </tr>\n",
       "    <tr>\n",
       "      <td>25%</td>\n",
       "      <td>-8.540000</td>\n",
       "      <td>-61.210000</td>\n",
       "      <td>59.000000</td>\n",
       "      <td>55.000000</td>\n",
       "      <td>20.000000</td>\n",
       "      <td>3.620000</td>\n",
       "      <td>1.593605e+09</td>\n",
       "    </tr>\n",
       "    <tr>\n",
       "      <td>50%</td>\n",
       "      <td>24.370000</td>\n",
       "      <td>24.670000</td>\n",
       "      <td>73.110000</td>\n",
       "      <td>75.000000</td>\n",
       "      <td>59.000000</td>\n",
       "      <td>6.730000</td>\n",
       "      <td>1.593605e+09</td>\n",
       "    </tr>\n",
       "    <tr>\n",
       "      <td>75%</td>\n",
       "      <td>46.585000</td>\n",
       "      <td>102.255000</td>\n",
       "      <td>80.600000</td>\n",
       "      <td>87.000000</td>\n",
       "      <td>85.000000</td>\n",
       "      <td>11.050000</td>\n",
       "      <td>1.593605e+09</td>\n",
       "    </tr>\n",
       "    <tr>\n",
       "      <td>max</td>\n",
       "      <td>78.220000</td>\n",
       "      <td>179.320000</td>\n",
       "      <td>116.600000</td>\n",
       "      <td>100.000000</td>\n",
       "      <td>100.000000</td>\n",
       "      <td>42.500000</td>\n",
       "      <td>1.593605e+09</td>\n",
       "    </tr>\n",
       "  </tbody>\n",
       "</table>\n",
       "</div>"
      ],
      "text/plain": [
       "              Lat         Lng    Max Temp    Humidity  Cloudiness  Wind Speed  \\\n",
       "count  599.000000  599.000000  599.000000  599.000000  599.000000  599.000000   \n",
       "mean    19.877028   19.568998   69.794808   69.353923   51.569282    7.979416   \n",
       "std     33.262944   91.418472   15.678452   22.704698   35.405602    5.660694   \n",
       "min    -54.800000 -179.170000   12.200000    7.000000    0.000000    0.360000   \n",
       "25%     -8.540000  -61.210000   59.000000   55.000000   20.000000    3.620000   \n",
       "50%     24.370000   24.670000   73.110000   75.000000   59.000000    6.730000   \n",
       "75%     46.585000  102.255000   80.600000   87.000000   85.000000   11.050000   \n",
       "max     78.220000  179.320000  116.600000  100.000000  100.000000   42.500000   \n",
       "\n",
       "               Date  \n",
       "count  5.990000e+02  \n",
       "mean   1.593605e+09  \n",
       "std    5.738815e+01  \n",
       "min    1.593605e+09  \n",
       "25%    1.593605e+09  \n",
       "50%    1.593605e+09  \n",
       "75%    1.593605e+09  \n",
       "max    1.593605e+09  "
      ]
     },
     "execution_count": 16,
     "metadata": {},
     "output_type": "execute_result"
    }
   ],
   "source": []
  },
  {
   "cell_type": "markdown",
   "metadata": {},
   "source": [
    "## Inspect the data and remove the cities where the humidity > 100%.\n",
    "----\n",
    "Skip this step if there are no cities that have humidity > 100%. "
   ]
  },
  {
   "cell_type": "code",
   "execution_count": 6,
   "metadata": {},
   "outputs": [
    {
     "data": {
      "text/html": [
       "<div>\n",
       "<style scoped>\n",
       "    .dataframe tbody tr th:only-of-type {\n",
       "        vertical-align: middle;\n",
       "    }\n",
       "\n",
       "    .dataframe tbody tr th {\n",
       "        vertical-align: top;\n",
       "    }\n",
       "\n",
       "    .dataframe thead th {\n",
       "        text-align: right;\n",
       "    }\n",
       "</style>\n",
       "<table border=\"1\" class=\"dataframe\">\n",
       "  <thead>\n",
       "    <tr style=\"text-align: right;\">\n",
       "      <th></th>\n",
       "      <th>Lat</th>\n",
       "      <th>Lng</th>\n",
       "      <th>Max Temp</th>\n",
       "      <th>Humidity</th>\n",
       "      <th>Cloudiness</th>\n",
       "      <th>Wind Speed</th>\n",
       "      <th>Date</th>\n",
       "    </tr>\n",
       "  </thead>\n",
       "  <tbody>\n",
       "    <tr>\n",
       "      <th>count</th>\n",
       "      <td>550.000000</td>\n",
       "      <td>550.000000</td>\n",
       "      <td>550.000000</td>\n",
       "      <td>550.000000</td>\n",
       "      <td>550.000000</td>\n",
       "      <td>550.000000</td>\n",
       "      <td>5.500000e+02</td>\n",
       "    </tr>\n",
       "    <tr>\n",
       "      <th>mean</th>\n",
       "      <td>19.973545</td>\n",
       "      <td>17.124400</td>\n",
       "      <td>58.331400</td>\n",
       "      <td>67.890909</td>\n",
       "      <td>52.141818</td>\n",
       "      <td>8.544800</td>\n",
       "      <td>1.585764e+09</td>\n",
       "    </tr>\n",
       "    <tr>\n",
       "      <th>std</th>\n",
       "      <td>33.284840</td>\n",
       "      <td>91.595451</td>\n",
       "      <td>25.795297</td>\n",
       "      <td>20.864881</td>\n",
       "      <td>35.766469</td>\n",
       "      <td>6.078869</td>\n",
       "      <td>5.539674e+01</td>\n",
       "    </tr>\n",
       "    <tr>\n",
       "      <th>min</th>\n",
       "      <td>-54.800000</td>\n",
       "      <td>-179.170000</td>\n",
       "      <td>-11.340000</td>\n",
       "      <td>9.000000</td>\n",
       "      <td>0.000000</td>\n",
       "      <td>0.160000</td>\n",
       "      <td>1.585764e+09</td>\n",
       "    </tr>\n",
       "    <tr>\n",
       "      <th>25%</th>\n",
       "      <td>-8.077500</td>\n",
       "      <td>-64.627500</td>\n",
       "      <td>42.800000</td>\n",
       "      <td>55.000000</td>\n",
       "      <td>20.000000</td>\n",
       "      <td>4.525000</td>\n",
       "      <td>1.585764e+09</td>\n",
       "    </tr>\n",
       "    <tr>\n",
       "      <th>50%</th>\n",
       "      <td>23.630000</td>\n",
       "      <td>19.635000</td>\n",
       "      <td>64.940000</td>\n",
       "      <td>72.000000</td>\n",
       "      <td>57.000000</td>\n",
       "      <td>7.325000</td>\n",
       "      <td>1.585764e+09</td>\n",
       "    </tr>\n",
       "    <tr>\n",
       "      <th>75%</th>\n",
       "      <td>48.672500</td>\n",
       "      <td>97.350000</td>\n",
       "      <td>78.800000</td>\n",
       "      <td>83.000000</td>\n",
       "      <td>86.750000</td>\n",
       "      <td>11.410000</td>\n",
       "      <td>1.585764e+09</td>\n",
       "    </tr>\n",
       "    <tr>\n",
       "      <th>max</th>\n",
       "      <td>78.220000</td>\n",
       "      <td>179.320000</td>\n",
       "      <td>102.200000</td>\n",
       "      <td>100.000000</td>\n",
       "      <td>100.000000</td>\n",
       "      <td>46.080000</td>\n",
       "      <td>1.585764e+09</td>\n",
       "    </tr>\n",
       "  </tbody>\n",
       "</table>\n",
       "</div>"
      ],
      "text/plain": [
       "              Lat         Lng    Max Temp    Humidity  Cloudiness  Wind Speed  \\\n",
       "count  550.000000  550.000000  550.000000  550.000000  550.000000  550.000000   \n",
       "mean    19.973545   17.124400   58.331400   67.890909   52.141818    8.544800   \n",
       "std     33.284840   91.595451   25.795297   20.864881   35.766469    6.078869   \n",
       "min    -54.800000 -179.170000  -11.340000    9.000000    0.000000    0.160000   \n",
       "25%     -8.077500  -64.627500   42.800000   55.000000   20.000000    4.525000   \n",
       "50%     23.630000   19.635000   64.940000   72.000000   57.000000    7.325000   \n",
       "75%     48.672500   97.350000   78.800000   83.000000   86.750000   11.410000   \n",
       "max     78.220000  179.320000  102.200000  100.000000  100.000000   46.080000   \n",
       "\n",
       "               Date  \n",
       "count  5.500000e+02  \n",
       "mean   1.585764e+09  \n",
       "std    5.539674e+01  \n",
       "min    1.585764e+09  \n",
       "25%    1.585764e+09  \n",
       "50%    1.585764e+09  \n",
       "75%    1.585764e+09  \n",
       "max    1.585764e+09  "
      ]
     },
     "execution_count": 6,
     "metadata": {},
     "output_type": "execute_result"
    }
   ],
   "source": []
  },
  {
   "cell_type": "code",
   "execution_count": 27,
   "metadata": {},
   "outputs": [],
   "source": [
    "#  Get the indices of cities that have humidity over 100%."
   ]
  },
  {
   "cell_type": "code",
   "execution_count": 15,
   "metadata": {},
   "outputs": [
    {
     "data": {
      "text/html": [
       "<div>\n",
       "<style scoped>\n",
       "    .dataframe tbody tr th:only-of-type {\n",
       "        vertical-align: middle;\n",
       "    }\n",
       "\n",
       "    .dataframe tbody tr th {\n",
       "        vertical-align: top;\n",
       "    }\n",
       "\n",
       "    .dataframe thead th {\n",
       "        text-align: right;\n",
       "    }\n",
       "</style>\n",
       "<table border=\"1\" class=\"dataframe\">\n",
       "  <thead>\n",
       "    <tr style=\"text-align: right;\">\n",
       "      <th></th>\n",
       "      <th>Name</th>\n",
       "      <th>Latitude</th>\n",
       "      <th>Longitude</th>\n",
       "      <th>Max Temp</th>\n",
       "      <th>Humidity</th>\n",
       "      <th>Cloudiness</th>\n",
       "      <th>Wind Speed</th>\n",
       "      <th>Country</th>\n",
       "      <th>Date</th>\n",
       "    </tr>\n",
       "  </thead>\n",
       "  <tbody>\n",
       "    <tr>\n",
       "      <th>0</th>\n",
       "      <td>São Filipe</td>\n",
       "      <td>14.8961</td>\n",
       "      <td>-24.4956</td>\n",
       "      <td>298.69</td>\n",
       "      <td>55</td>\n",
       "      <td>804</td>\n",
       "      <td>3.86</td>\n",
       "      <td>CV</td>\n",
       "      <td>1611942534</td>\n",
       "    </tr>\n",
       "    <tr>\n",
       "      <th>1</th>\n",
       "      <td>Tabora</td>\n",
       "      <td>-5.0167</td>\n",
       "      <td>32.8000</td>\n",
       "      <td>293.54</td>\n",
       "      <td>83</td>\n",
       "      <td>500</td>\n",
       "      <td>1.10</td>\n",
       "      <td>TZ</td>\n",
       "      <td>1611942534</td>\n",
       "    </tr>\n",
       "    <tr>\n",
       "      <th>2</th>\n",
       "      <td>Abhā</td>\n",
       "      <td>18.2164</td>\n",
       "      <td>42.5053</td>\n",
       "      <td>288.15</td>\n",
       "      <td>77</td>\n",
       "      <td>800</td>\n",
       "      <td>5.14</td>\n",
       "      <td>SA</td>\n",
       "      <td>1611942534</td>\n",
       "    </tr>\n",
       "    <tr>\n",
       "      <th>3</th>\n",
       "      <td>Rāzole</td>\n",
       "      <td>16.4833</td>\n",
       "      <td>81.8333</td>\n",
       "      <td>293.88</td>\n",
       "      <td>91</td>\n",
       "      <td>803</td>\n",
       "      <td>1.15</td>\n",
       "      <td>IN</td>\n",
       "      <td>1611942535</td>\n",
       "    </tr>\n",
       "    <tr>\n",
       "      <th>4</th>\n",
       "      <td>Guerrero Negro</td>\n",
       "      <td>27.9769</td>\n",
       "      <td>-114.0611</td>\n",
       "      <td>290.59</td>\n",
       "      <td>56</td>\n",
       "      <td>800</td>\n",
       "      <td>3.90</td>\n",
       "      <td>MX</td>\n",
       "      <td>1611942535</td>\n",
       "    </tr>\n",
       "    <tr>\n",
       "      <th>5</th>\n",
       "      <td>Vredendal</td>\n",
       "      <td>-31.6683</td>\n",
       "      <td>18.5012</td>\n",
       "      <td>292.48</td>\n",
       "      <td>65</td>\n",
       "      <td>800</td>\n",
       "      <td>7.31</td>\n",
       "      <td>ZA</td>\n",
       "      <td>1611942535</td>\n",
       "    </tr>\n",
       "    <tr>\n",
       "      <th>6</th>\n",
       "      <td>Qaanaaq</td>\n",
       "      <td>77.4840</td>\n",
       "      <td>-69.3632</td>\n",
       "      <td>247.19</td>\n",
       "      <td>59</td>\n",
       "      <td>800</td>\n",
       "      <td>2.05</td>\n",
       "      <td>GL</td>\n",
       "      <td>1611942536</td>\n",
       "    </tr>\n",
       "    <tr>\n",
       "      <th>7</th>\n",
       "      <td>Punta Arenas</td>\n",
       "      <td>-53.1500</td>\n",
       "      <td>-70.9167</td>\n",
       "      <td>282.15</td>\n",
       "      <td>53</td>\n",
       "      <td>803</td>\n",
       "      <td>9.26</td>\n",
       "      <td>CL</td>\n",
       "      <td>1611942536</td>\n",
       "    </tr>\n",
       "    <tr>\n",
       "      <th>8</th>\n",
       "      <td>Qasigiannguit</td>\n",
       "      <td>68.8193</td>\n",
       "      <td>-51.1922</td>\n",
       "      <td>256.15</td>\n",
       "      <td>51</td>\n",
       "      <td>800</td>\n",
       "      <td>2.06</td>\n",
       "      <td>GL</td>\n",
       "      <td>1611942536</td>\n",
       "    </tr>\n",
       "    <tr>\n",
       "      <th>9</th>\n",
       "      <td>Kaitangata</td>\n",
       "      <td>-46.2817</td>\n",
       "      <td>169.8464</td>\n",
       "      <td>279.08</td>\n",
       "      <td>92</td>\n",
       "      <td>801</td>\n",
       "      <td>2.75</td>\n",
       "      <td>NZ</td>\n",
       "      <td>1611942536</td>\n",
       "    </tr>\n",
       "    <tr>\n",
       "      <th>10</th>\n",
       "      <td>Lompoc</td>\n",
       "      <td>34.6391</td>\n",
       "      <td>-120.4579</td>\n",
       "      <td>282.15</td>\n",
       "      <td>93</td>\n",
       "      <td>500</td>\n",
       "      <td>3.09</td>\n",
       "      <td>US</td>\n",
       "      <td>1611942449</td>\n",
       "    </tr>\n",
       "    <tr>\n",
       "      <th>11</th>\n",
       "      <td>Hermanus</td>\n",
       "      <td>-34.4187</td>\n",
       "      <td>19.2345</td>\n",
       "      <td>294.26</td>\n",
       "      <td>73</td>\n",
       "      <td>800</td>\n",
       "      <td>3.28</td>\n",
       "      <td>ZA</td>\n",
       "      <td>1611942537</td>\n",
       "    </tr>\n",
       "    <tr>\n",
       "      <th>12</th>\n",
       "      <td>Yakeshi</td>\n",
       "      <td>49.2833</td>\n",
       "      <td>120.7333</td>\n",
       "      <td>241.40</td>\n",
       "      <td>86</td>\n",
       "      <td>600</td>\n",
       "      <td>1.60</td>\n",
       "      <td>CN</td>\n",
       "      <td>1611942537</td>\n",
       "    </tr>\n",
       "    <tr>\n",
       "      <th>13</th>\n",
       "      <td>Port Hardy</td>\n",
       "      <td>50.6996</td>\n",
       "      <td>-127.4199</td>\n",
       "      <td>278.15</td>\n",
       "      <td>87</td>\n",
       "      <td>804</td>\n",
       "      <td>9.26</td>\n",
       "      <td>CA</td>\n",
       "      <td>1611942537</td>\n",
       "    </tr>\n",
       "    <tr>\n",
       "      <th>14</th>\n",
       "      <td>Halifax</td>\n",
       "      <td>44.6453</td>\n",
       "      <td>-63.5724</td>\n",
       "      <td>271.15</td>\n",
       "      <td>59</td>\n",
       "      <td>600</td>\n",
       "      <td>6.69</td>\n",
       "      <td>CA</td>\n",
       "      <td>1611942303</td>\n",
       "    </tr>\n",
       "    <tr>\n",
       "      <th>15</th>\n",
       "      <td>Butaritari</td>\n",
       "      <td>3.0707</td>\n",
       "      <td>172.7902</td>\n",
       "      <td>300.04</td>\n",
       "      <td>78</td>\n",
       "      <td>500</td>\n",
       "      <td>7.75</td>\n",
       "      <td>KI</td>\n",
       "      <td>1611942537</td>\n",
       "    </tr>\n",
       "    <tr>\n",
       "      <th>16</th>\n",
       "      <td>Bluff</td>\n",
       "      <td>-46.6000</td>\n",
       "      <td>168.3333</td>\n",
       "      <td>281.40</td>\n",
       "      <td>81</td>\n",
       "      <td>802</td>\n",
       "      <td>1.11</td>\n",
       "      <td>NZ</td>\n",
       "      <td>1611942538</td>\n",
       "    </tr>\n",
       "    <tr>\n",
       "      <th>17</th>\n",
       "      <td>Grand Gaube</td>\n",
       "      <td>-20.0064</td>\n",
       "      <td>57.6608</td>\n",
       "      <td>300.37</td>\n",
       "      <td>80</td>\n",
       "      <td>800</td>\n",
       "      <td>1.79</td>\n",
       "      <td>MU</td>\n",
       "      <td>1611942538</td>\n",
       "    </tr>\n",
       "  </tbody>\n",
       "</table>\n",
       "</div>"
      ],
      "text/plain": [
       "              Name  Latitude  Longitude  Max Temp  Humidity  Cloudiness  \\\n",
       "0       São Filipe   14.8961   -24.4956    298.69        55         804   \n",
       "1           Tabora   -5.0167    32.8000    293.54        83         500   \n",
       "2             Abhā   18.2164    42.5053    288.15        77         800   \n",
       "3           Rāzole   16.4833    81.8333    293.88        91         803   \n",
       "4   Guerrero Negro   27.9769  -114.0611    290.59        56         800   \n",
       "5        Vredendal  -31.6683    18.5012    292.48        65         800   \n",
       "6          Qaanaaq   77.4840   -69.3632    247.19        59         800   \n",
       "7     Punta Arenas  -53.1500   -70.9167    282.15        53         803   \n",
       "8    Qasigiannguit   68.8193   -51.1922    256.15        51         800   \n",
       "9       Kaitangata  -46.2817   169.8464    279.08        92         801   \n",
       "10          Lompoc   34.6391  -120.4579    282.15        93         500   \n",
       "11        Hermanus  -34.4187    19.2345    294.26        73         800   \n",
       "12         Yakeshi   49.2833   120.7333    241.40        86         600   \n",
       "13      Port Hardy   50.6996  -127.4199    278.15        87         804   \n",
       "14         Halifax   44.6453   -63.5724    271.15        59         600   \n",
       "15      Butaritari    3.0707   172.7902    300.04        78         500   \n",
       "16           Bluff  -46.6000   168.3333    281.40        81         802   \n",
       "17     Grand Gaube  -20.0064    57.6608    300.37        80         800   \n",
       "\n",
       "    Wind Speed Country        Date  \n",
       "0         3.86      CV  1611942534  \n",
       "1         1.10      TZ  1611942534  \n",
       "2         5.14      SA  1611942534  \n",
       "3         1.15      IN  1611942535  \n",
       "4         3.90      MX  1611942535  \n",
       "5         7.31      ZA  1611942535  \n",
       "6         2.05      GL  1611942536  \n",
       "7         9.26      CL  1611942536  \n",
       "8         2.06      GL  1611942536  \n",
       "9         2.75      NZ  1611942536  \n",
       "10        3.09      US  1611942449  \n",
       "11        3.28      ZA  1611942537  \n",
       "12        1.60      CN  1611942537  \n",
       "13        9.26      CA  1611942537  \n",
       "14        6.69      CA  1611942303  \n",
       "15        7.75      KI  1611942537  \n",
       "16        1.11      NZ  1611942538  \n",
       "17        1.79      MU  1611942538  "
      ]
     },
     "execution_count": 15,
     "metadata": {},
     "output_type": "execute_result"
    }
   ],
   "source": [
    "# Make a new DataFrame equal to the city data to drop all humidity outliers by index.\n",
    "# Passing \"inplace=False\" will make a copy of the city_data DataFrame, which we call \"clean_city_data\".\n",
    "clean_city_data = weather_summary.drop(weather_summary[weather_summary['Humidity'] >100].index, inplace = False)\n",
    "clean_city_data"
   ]
  },
  {
   "cell_type": "markdown",
   "metadata": {},
   "source": [
    "## Plotting the Data\n",
    "* Use proper labeling of the plots using plot titles (including date of analysis) and axes labels.\n",
    "* Save the plotted figures as .pngs."
   ]
  },
  {
   "cell_type": "markdown",
   "metadata": {},
   "source": [
    "## Latitude vs. Temperature Plot"
   ]
  },
  {
   "cell_type": "code",
   "execution_count": 28,
   "metadata": {
    "scrolled": true
   },
   "outputs": [],
   "source": [
    "# challenge: create custom function, \"template,\" so I can run just one line of code (include savefig)"
   ]
  },
  {
   "cell_type": "code",
   "execution_count": 16,
   "metadata": {
    "scrolled": true
   },
   "outputs": [
    {
     "data": {
      "text/plain": [
       "<matplotlib.collections.PathCollection at 0x1fce8816970>"
      ]
     },
     "execution_count": 16,
     "metadata": {},
     "output_type": "execute_result"
    },
    {
     "data": {
      "image/png": "[encoded data removed]",
      "text/plain": [
       "<Figure size 432x288 with 1 Axes>"
      ]
     },
     "metadata": {
      "needs_background": "light"
     },
     "output_type": "display_data"
    }
   ],
   "source": [
    "plt.scatter(clean_city_data['Latitude'],clean_city_data['Max Temp'])\n"
   ]
  },
  {
   "cell_type": "code",
   "execution_count": 17,
   "metadata": {},
   "outputs": [
    {
     "data": {
      "image/png": "[encoded data removed]",
      "text/plain": [
       "<Figure size 432x288 with 1 Axes>"
      ]
     },
     "metadata": {
      "needs_background": "light"
     },
     "output_type": "display_data"
    }
   ],
   "source": [
    "plt.scatter(clean_city_data['Latitude'],clean_city_data['Max Temp'])\n",
    "plt.xlabel('City Latitude')\n",
    "plt.ylabel('Max Temperature (F)')\n",
    "plt.title('City Latitude vs. Max Temperature')\n",
    "plt.show()"
   ]
  },
  {
   "cell_type": "markdown",
   "metadata": {},
   "source": [
    "## Latitude vs. Humidity Plot"
   ]
  },
  {
   "cell_type": "code",
   "execution_count": 18,
   "metadata": {},
   "outputs": [
    {
     "data": {
      "image/png": "[encoded data removed]",
      "text/plain": [
       "<Figure size 432x288 with 1 Axes>"
      ]
     },
     "metadata": {
      "needs_background": "light"
     },
     "output_type": "display_data"
    }
   ],
   "source": [
    "plt.scatter(clean_city_data['Latitude'],clean_city_data['Humidity'])\n",
    "plt.xlabel('City Latitude')\n",
    "plt.ylabel('Humidity')\n",
    "plt.title('City Latitude vs. Humidity')\n",
    "plt.show()"
   ]
  },
  {
   "cell_type": "markdown",
   "metadata": {},
   "source": [
    "## Latitude vs. Cloudiness Plot"
   ]
  },
  {
   "cell_type": "code",
   "execution_count": 19,
   "metadata": {},
   "outputs": [
    {
     "data": {
      "image/png": "[encoded data removed]",
      "text/plain": [
       "<Figure size 432x288 with 1 Axes>"
      ]
     },
     "metadata": {
      "needs_background": "light"
     },
     "output_type": "display_data"
    }
   ],
   "source": [
    "plt.scatter(clean_city_data['Latitude'],clean_city_data['Cloudiness'])\n",
    "plt.xlabel('City Latitude')\n",
    "plt.ylabel('Cloudiness')\n",
    "plt.title('City Latitude vs. Cloudiness')\n",
    "plt.show()"
   ]
  },
  {
   "cell_type": "markdown",
   "metadata": {},
   "source": [
    "## Latitude vs. Wind Speed Plot"
   ]
  },
  {
   "cell_type": "code",
   "execution_count": 21,
   "metadata": {},
   "outputs": [
    {
     "data": {
      "image/png": "[encoded data removed]",
      "text/plain": [
       "<Figure size 432x288 with 1 Axes>"
      ]
     },
     "metadata": {
      "needs_background": "light"
     },
     "output_type": "display_data"
    }
   ],
   "source": [
    "plt.scatter(clean_city_data['Latitude'],clean_city_data['Wind Speed'])\n",
    "plt.xlabel('City Latitude')\n",
    "plt.ylabel('Wind Speed')\n",
    "plt.title('City Latitude vs. Wind Speed')\n",
    "plt.show()"
   ]
  },
  {
   "cell_type": "markdown",
   "metadata": {},
   "source": [
    "## Linear Regression"
   ]
  },
  {
   "cell_type": "code",
   "execution_count": 22,
   "metadata": {},
   "outputs": [],
   "source": [
    "northern_df = clean_city_data.loc[pd.to_numeric(clean_city_data[\"Latitude\"]).astype(float) > 0, :]\n",
    "southern_df = clean_city_data.loc[pd.to_numeric(clean_city_data[\"Latitude\"]).astype(float) < 0, :]"
   ]
  },
  {
   "cell_type": "markdown",
   "metadata": {},
   "source": [
    "####  Northern Hemisphere - Max Temp vs. Latitude Linear Regression"
   ]
  },
  {
   "cell_type": "code",
   "execution_count": 44,
   "metadata": {},
   "outputs": [
    {
     "data": {
      "image/png": "[encoded data removed]",
      "text/plain": [
       "<Figure size 432x288 with 1 Axes>"
      ]
     },
     "metadata": {
      "needs_background": "light"
     },
     "output_type": "display_data"
    },
    {
     "name": "stdout",
     "output_type": "stream",
     "text": [
      "Regression = y = -0.77x + 305.59\n",
      "R-Value = -0.8832374112990168\n"
     ]
    }
   ],
   "source": [
    "x = northern_df['Latitude']\n",
    "y = northern_df['Max Temp']\n",
    "(slope, intercept, rvalue, pvalue, stderr) = linregress(x, y)\n",
    "regress_values = x * slope + intercept\n",
    "line_eq = \"y = \" + str(round(slope,2)) + \"x + \" + str(round(intercept,2))\n",
    "plt.plot(x, y, 'o', label='original data')\n",
    "plt.plot(x, result.intercept + result.slope*x, 'r', label='fitted line')\n",
    "plt.xlabel('City Latitude')\n",
    "plt.ylabel('Max Temperature (F)')\n",
    "plt.title('Northern Hemisphere: Latitude vs. Max Temp')\n",
    "plt.show()\n",
    "print(f\"Regression = {line_eq}\")\n",
    "print(f\"R-Value = {rvalue}\")"
   ]
  },
  {
   "cell_type": "markdown",
   "metadata": {},
   "source": [
    "####  Southern Hemisphere - Max Temp vs. Latitude Linear Regression"
   ]
  },
  {
   "cell_type": "code",
   "execution_count": 45,
   "metadata": {},
   "outputs": [
    {
     "data": {
      "image/png": "[encoded data removed]",
      "text/plain": [
       "<Figure size 432x288 with 1 Axes>"
      ]
     },
     "metadata": {
      "needs_background": "light"
     },
     "output_type": "display_data"
    },
    {
     "name": "stdout",
     "output_type": "stream",
     "text": [
      "Regression = y = 0.38x + 301.77\n",
      "R-Value = 0.7857112583668621\n"
     ]
    }
   ],
   "source": [
    "x = southern_df['Latitude']\n",
    "y = southern_df['Max Temp']\n",
    "(slope, intercept, rvalue, pvalue, stderr) = linregress(x, y)\n",
    "regress_values = x * slope + intercept\n",
    "line_eq = \"y = \" + str(round(slope,2)) + \"x + \" + str(round(intercept,2))\n",
    "plt.plot(x, y, 'o', label='original data')\n",
    "plt.plot(x, result.intercept + result.slope*x, 'r', label='fitted line')\n",
    "plt.xlabel('City Latitude')\n",
    "plt.ylabel('Max Temperature (F)')\n",
    "plt.title('Southern Hemisphere: Latitude vs. Max Temp.')\n",
    "plt.show()\n",
    "print(f\"Regression = {line_eq}\")\n",
    "print(f\"R-Value = {rvalue}\")"
   ]
  },
  {
   "cell_type": "markdown",
   "metadata": {},
   "source": [
    "####  Northern Hemisphere - Humidity (%) vs. Latitude Linear Regression"
   ]
  },
  {
   "cell_type": "code",
   "execution_count": 46,
   "metadata": {},
   "outputs": [
    {
     "name": "stdout",
     "output_type": "stream",
     "text": [
      "Regression = y = -0.2x + 79.54\n"
     ]
    },
    {
     "data": {
      "image/png": "[encoded data removed]",
      "text/plain": [
       "<Figure size 432x288 with 1 Axes>"
      ]
     },
     "metadata": {
      "needs_background": "light"
     },
     "output_type": "display_data"
    },
    {
     "name": "stdout",
     "output_type": "stream",
     "text": [
      "Regression = y = -0.2x + 79.54\n",
      "R-Value = -0.297880143297455\n"
     ]
    }
   ],
   "source": [
    "x = northern_df['Latitude']\n",
    "y = northern_df['Humidity']\n",
    "(slope, intercept, rvalue, pvalue, stderr) = linregress(x, y)\n",
    "regress_values = x * slope + intercept\n",
    "line_eq = \"y = \" + str(round(slope,2)) + \"x + \" + str(round(intercept,2))\n",
    "print(f\"Regression = {line_eq}\")\n",
    "plt.plot(x, y, 'o', label='original data')\n",
    "plt.plot(x, result.intercept + result.slope*x, 'r', label='fitted line')\n",
    "plt.xlabel('City Latitude')\n",
    "plt.ylabel('Humidity')\n",
    "plt.title('Northern Hemisphere: Latitude vs. Humidity')\n",
    "plt.show()\n",
    "print(f\"Regression = {line_eq}\")\n",
    "print(f\"R-Value = {rvalue}\")"
   ]
  },
  {
   "cell_type": "markdown",
   "metadata": {},
   "source": [
    "####  Southern Hemisphere - Humidity (%) vs. Latitude Linear Regression"
   ]
  },
  {
   "cell_type": "code",
   "execution_count": 49,
   "metadata": {},
   "outputs": [
    {
     "data": {
      "image/png": "[encoded data removed]",
      "text/plain": [
       "<Figure size 432x288 with 1 Axes>"
      ]
     },
     "metadata": {
      "needs_background": "light"
     },
     "output_type": "display_data"
    },
    {
     "name": "stdout",
     "output_type": "stream",
     "text": [
      "Regression = y = 0.24x + 83.49\n",
      "R-Value = 0.3172002765292133\n"
     ]
    }
   ],
   "source": [
    "x = southern_df['Latitude']\n",
    "y = southern_df['Humidity']\n",
    "(slope, intercept, rvalue, pvalue, stderr) = linregress(x, y)\n",
    "regress_values = x * slope + intercept\n",
    "line_eq = \"y = \" + str(round(slope,2)) + \"x + \" + str(round(intercept,2))\n",
    "plt.plot(x, y, 'o', label='original data')\n",
    "plt.plot(x, result.intercept + result.slope*x, 'r', label='fitted line')\n",
    "plt.xlabel('City Latitude')\n",
    "plt.ylabel('Max Temperature (F)')\n",
    "plt.title('Southern Hemisphere: Latitude vs. Humidity')\n",
    "plt.show()\n",
    "print(f\"Regression = {line_eq}\")\n",
    "print(f\"R-Value = {rvalue}\")"
   ]
  },
  {
   "cell_type": "markdown",
   "metadata": {},
   "source": [
    "####  Northern Hemisphere - Cloudiness (%) vs. Latitude Linear Regression"
   ]
  },
  {
   "cell_type": "code",
   "execution_count": 47,
   "metadata": {},
   "outputs": [
    {
     "data": {
      "image/png": "[encoded data removed]",
      "text/plain": [
       "<Figure size 432x288 with 1 Axes>"
      ]
     },
     "metadata": {
      "needs_background": "light"
     },
     "output_type": "display_data"
    },
    {
     "name": "stdout",
     "output_type": "stream",
     "text": [
      "Regression = y = 1.21x + 665.27\n",
      "R-Value = 0.21858229292631637\n"
     ]
    }
   ],
   "source": [
    "x = northern_df['Latitude']\n",
    "y = northern_df['Cloudiness']\n",
    "(slope, intercept, rvalue, pvalue, stderr) = linregress(x, y)\n",
    "regress_values = x * slope + intercept\n",
    "line_eq = \"y = \" + str(round(slope,2)) + \"x + \" + str(round(intercept,2))\n",
    "plt.plot(x, y, 'o', label='original data')\n",
    "plt.plot(x, result.intercept + result.slope*x, 'r', label='fitted line')\n",
    "plt.xlabel('City Latitude')\n",
    "plt.ylabel('Max Temperature (F)')\n",
    "plt.title('Northern Hemisphere: Latitude vs. Cloudiness')\n",
    "plt.show()\n",
    "print(f\"Regression = {line_eq}\")\n",
    "print(f\"R-Value = {rvalue}\")"
   ]
  },
  {
   "cell_type": "markdown",
   "metadata": {},
   "source": [
    "####  Southern Hemisphere - Cloudiness (%) vs. Latitude Linear Regression"
   ]
  },
  {
   "cell_type": "code",
   "execution_count": 30,
   "metadata": {},
   "outputs": [
    {
     "name": "stdout",
     "output_type": "stream",
     "text": [
      "The r-value is: 0.0035263772085582894\n"
     ]
    },
    {
     "data": {
      "image/png": "[encoded data removed]",
      "text/plain": [
       "<Figure size 432x288 with 1 Axes>"
      ]
     },
     "metadata": {
      "needs_background": "light"
     },
     "output_type": "display_data"
    }
   ],
   "source": [
    "x = southern_df['Latitude']\n",
    "y = southern_df['Cloudiness']\n",
    "(slope, intercept, rvalue, pvalue, stderr) = linregress(x, y)\n",
    "regress_values = x * slope + intercept\n",
    "line_eq = \"y = \" + str(round(slope,2)) + \"x + \" + str(round(intercept,2))\n",
    "plt.plot(x, y, 'o', label='original data')\n",
    "plt.plot(x, result.intercept + result.slope*x, 'r', label='fitted line')\n",
    "plt.xlabel('City Latitude')\n",
    "plt.ylabel('Max Temperature (F)')\n",
    "plt.title('Southern Hemisphere: Latitude vs. Cloudiness')\n",
    "plt.show()\n",
    "print(f\"Regression = {line_eq}\")\n",
    "print(f\"R-Value = {rvalue}\")"
   ]
  },
  {
   "cell_type": "markdown",
   "metadata": {},
   "source": [
    "####  Northern Hemisphere - Wind Speed (mph) vs. Latitude Linear Regression"
   ]
  },
  {
   "cell_type": "code",
   "execution_count": 48,
   "metadata": {},
   "outputs": [
    {
     "name": "stdout",
     "output_type": "stream",
     "text": [
      "Regression = y = -0.03x + 5.31\n"
     ]
    },
    {
     "data": {
      "image/png": "[encoded data removed]",
      "text/plain": [
       "<Figure size 432x288 with 1 Axes>"
      ]
     },
     "metadata": {
      "needs_background": "light"
     },
     "output_type": "display_data"
    },
    {
     "name": "stdout",
     "output_type": "stream",
     "text": [
      "Regression = y = -0.03x + 5.31\n",
      "R-Value = -0.2553437340688444\n"
     ]
    }
   ],
   "source": [
    "x = northern_df['Latitude']\n",
    "y = northern_df['Wind Speed']\n",
    "(slope, intercept, rvalue, pvalue, stderr) = linregress(x, y)\n",
    "regress_values = x * slope + intercept\n",
    "line_eq = \"y = \" + str(round(slope,2)) + \"x + \" + str(round(intercept,2))\n",
    "print(f\"Regression = {line_eq}\")\n",
    "# print(result.intercept,result.intercept_stderr)\n",
    "plt.plot(x, y, 'o', label='original data')\n",
    "plt.plot(x, result.intercept + result.slope*x, 'r', label='fitted line')\n",
    "plt.xlabel('City Latitude')\n",
    "plt.ylabel('Max Temperature (F)')\n",
    "plt.title('Northern Hemisphere: Latitude vs. Wind Speed')\n",
    "plt.show()\n",
    "print(f\"Regression = {line_eq}\")\n",
    "print(f\"R-Value = {rvalue}\")"
   ]
  },
  {
   "cell_type": "markdown",
   "metadata": {},
   "source": [
    "####  Southern Hemisphere - Wind Speed (mph) vs. Latitude Linear Regression"
   ]
  },
  {
   "cell_type": "code",
   "execution_count": 50,
   "metadata": {},
   "outputs": [
    {
     "data": {
      "image/png": "[encoded data removed]",
      "text/plain": [
       "<Figure size 432x288 with 1 Axes>"
      ]
     },
     "metadata": {
      "needs_background": "light"
     },
     "output_type": "display_data"
    },
    {
     "name": "stdout",
     "output_type": "stream",
     "text": [
      "Regression = y = -0.09x + 0.73\n",
      "R-Value = -0.4769918451115848\n"
     ]
    }
   ],
   "source": [
    "x = southern_df['Latitude']\n",
    "y = southern_df['Wind Speed']\n",
    "(slope, intercept, rvalue, pvalue, stderr) = linregress(x, y)\n",
    "regress_values = x * slope + intercept\n",
    "line_eq = \"y = \" + str(round(slope,2)) + \"x + \" + str(round(intercept,2))\n",
    "plt.plot(x, y, 'o', label='original data')\n",
    "plt.plot(x, result.intercept + result.slope*x, 'r', label='fitted line')\n",
    "plt.xlabel('City Latitude')\n",
    "plt.ylabel('Max Temperature (F)')\n",
    "plt.title('Southern Hemisphere: Latitude vs. Wind Speed')\n",
    "plt.show()\n",
    "print(f\"Regression = {line_eq}\")\n",
    "print(f\"R-Value = {rvalue}\")"
   ]
  },
  {
   "cell_type": "code",
   "execution_count": null,
   "metadata": {},
   "outputs": [],
   "source": []
  }
 ],
 "metadata": {
  "anaconda-cloud": {},
  "kernel_info": {
   "name": "python3"
  },
  "kernelspec": {
   "display_name": "Python 3",
   "language": "python",
   "name": "python3"
  },
  "language_info": {
   "codemirror_mode": {
    "name": "ipython",
    "version": 3
   },
   "file_extension": ".py",
   "mimetype": "text/x-python",
   "name": "python",
   "nbconvert_exporter": "python",
   "pygments_lexer": "ipython3",
   "version": "3.8.5"
  },
  "latex_envs": {
   "LaTeX_envs_menu_present": true,
   "autoclose": false,
   "autocomplete": true,
   "bibliofile": "biblio.bib",
   "cite_by": "apalike",
   "current_citInitial": 1,
   "eqLabelWithNumbers": true,
   "eqNumInitial": 1,
   "hotkeys": {
    "equation": "Ctrl-E",
    "itemize": "Ctrl-I"
   },
   "labels_anchors": false,
   "latex_user_defs": false,
   "report_style_numbering": false,
   "user_envs_cfg": false
  },
  "nteract": {
   "version": "0.12.3"
  }
 },
 "nbformat": 4,
 "nbformat_minor": 2
}
